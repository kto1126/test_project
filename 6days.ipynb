{
 "cells": [
  {
   "cell_type": "code",
   "execution_count": 1,
   "id": "e6b594d2",
   "metadata": {},
   "outputs": [],
   "source": [
    "from selenium import webdriver as wb\n",
    "from selenium.webdriver.common.keys import Keys\n",
    "from selenium.webdriver.common.by import By\n",
    "import time\n",
    "import pandas as pd\n",
    "from bs4 import BeautifulSoup as bs"
   ]
  },
  {
   "cell_type": "markdown",
   "id": "5e0dd09c",
   "metadata": {},
   "source": [
    "#### 유튜브 댓글 수집"
   ]
  },
  {
   "cell_type": "code",
   "execution_count": 2,
   "id": "7242f0fd",
   "metadata": {},
   "outputs": [],
   "source": [
    "#1. 브라우저 실행\n",
    "drive = wb.Chrome()\n",
    "drive.get(\"https://www.youtube.com/watch?v=PtZ5-b1m4QA\")"
   ]
  },
  {
   "cell_type": "code",
   "execution_count": 3,
   "id": "296861a4",
   "metadata": {},
   "outputs": [
    {
     "data": {
      "text/plain": [
       "0"
      ]
     },
     "execution_count": 3,
     "metadata": {},
     "output_type": "execute_result"
    }
   ],
   "source": [
    "#2. 댓글 정보르 수집\n",
    "# id가 content-text인 댓글 수집\n",
    "# 스크롤내리면 리뷰개수 나옴\n",
    "review = drive.find_elements(By.ID,'content-text')\n",
    "len(review)"
   ]
  },
  {
   "cell_type": "code",
   "execution_count": 4,
   "id": "eef9cfa4",
   "metadata": {},
   "outputs": [],
   "source": [
    "for i in review:\n",
    "    print(i.text)"
   ]
  },
  {
   "cell_type": "code",
   "execution_count": 5,
   "id": "8bfedeb4",
   "metadata": {},
   "outputs": [
    {
     "ename": "AttributeError",
     "evalue": "'NoneType' object has no attribute 'send_keys'",
     "output_type": "error",
     "traceback": [
      "\u001b[1;31m---------------------------------------------------------------------------\u001b[0m",
      "\u001b[1;31mAttributeError\u001b[0m                            Traceback (most recent call last)",
      "Input \u001b[1;32mIn [5]\u001b[0m, in \u001b[0;36m<cell line: 3>\u001b[1;34m()\u001b[0m\n\u001b[0;32m      2\u001b[0m \u001b[38;5;28;01mwhile\u001b[39;00m \u001b[38;5;28;01mTrue\u001b[39;00m:\n\u001b[0;32m      3\u001b[0m     body \u001b[38;5;241m=\u001b[39m drive\u001b[38;5;241m.\u001b[39mfind_element(By\u001b[38;5;241m.\u001b[39mTAG_NAME,\u001b[38;5;124m'\u001b[39m\u001b[38;5;124mbody\u001b[39m\u001b[38;5;124m'\u001b[39m)\n\u001b[1;32m----> 4\u001b[0m     \u001b[43mbody\u001b[49m\u001b[38;5;241;43m.\u001b[39;49m\u001b[43msend_keys\u001b[49m(Keys\u001b[38;5;241m.\u001b[39mEND)\n\u001b[0;32m      5\u001b[0m     time\u001b[38;5;241m.\u001b[39msleep(\u001b[38;5;241m0.5\u001b[39m)\n",
      "\u001b[1;31mAttributeError\u001b[0m: 'NoneType' object has no attribute 'send_keys'"
     ]
    }
   ],
   "source": [
    "#3. 댓글정보를 갱신하기위해서 키보드end 버튼을 누름\n",
    "while True:\n",
    "    body = drive.find_element(By.TAG_NAME,'body')\n",
    "    body.send_keys(Keys.END)\n",
    "    time.sleep(0.5)"
   ]
  },
  {
   "cell_type": "markdown",
   "id": "71c29af9",
   "metadata": {},
   "source": [
    "#### 네이버에서 박진영검색하고 크롤링"
   ]
  },
  {
   "cell_type": "code",
   "execution_count": 6,
   "id": "3351f761",
   "metadata": {},
   "outputs": [],
   "source": [
    "#1. 크롬을 열고 네이버에 들어가기\n",
    "drive = wb.Chrome()\n",
    "drive.get(\"https://naver.com\")"
   ]
  },
  {
   "cell_type": "code",
   "execution_count": null,
   "id": "328aceaa",
   "metadata": {},
   "outputs": [],
   "source": [
    "#2. 원하는 키워드 입력하고 검색하기\n",
    "#2.1 검색바를 찾기\n",
    "search= drive.find_element(By.ID,'query')\n",
    "#2.2 '박진영'입력하기\n",
    "search.send_keys('지라라')\n",
    "#2.3 검색누르기\n",
    "search.send_keys(Keys.ENTER)"
   ]
  },
  {
   "cell_type": "code",
   "execution_count": null,
   "id": "a15ef5d1",
   "metadata": {},
   "outputs": [],
   "source": [
    "#3. 이미지탭 클릭하기\n",
    "image_tab = drive.find_element(By.CSS_SELECTOR,'#lnb > div.lnb_group > div > ul > li:nth-child(2) > a')\n",
    "image_tab.click()"
   ]
  },
  {
   "cell_type": "code",
   "execution_count": null,
   "id": "af81cd61",
   "metadata": {},
   "outputs": [],
   "source": [
    "#4. 이미지 수집\n",
    "#4.1 이미지태그 수집\n",
    "imgs = drive.find_elements(By.CSS_SELECTOR, 'img._image._listImage')"
   ]
  },
  {
   "cell_type": "code",
   "execution_count": null,
   "id": "832f78cc",
   "metadata": {},
   "outputs": [],
   "source": [
    "len(imgs)"
   ]
  },
  {
   "cell_type": "code",
   "execution_count": null,
   "id": "ca10bed9",
   "metadata": {},
   "outputs": [],
   "source": [
    "#4.2이미지 태그안에 있는 src속성값 가져오기\n",
    "#속성을 가져오는 함수:get_attribute()\n",
    "#반복문을 사용해서 전체 img태그에 있는 src값 수집\n",
    "img_url = []\n",
    "for img in imgs:\n",
    "    img_url.append(img.get_attribute('src'))"
   ]
  },
  {
   "cell_type": "code",
   "execution_count": null,
   "id": "96baa51d",
   "metadata": {},
   "outputs": [],
   "source": [
    "print(img_url[0])"
   ]
  },
  {
   "cell_type": "code",
   "execution_count": null,
   "id": "a112574d",
   "metadata": {},
   "outputs": [],
   "source": []
  },
  {
   "cell_type": "code",
   "execution_count": null,
   "id": "5896a829",
   "metadata": {},
   "outputs": [],
   "source": [
    "#파일 시스템을 위한 라이브러리(파일, 폴더에 접근)\n",
    "import os\n",
    "#이미지의 url값을 파일로 변형시켜주는 라이브러리\n",
    "from urllib.request import urlretrieve"
   ]
  },
  {
   "cell_type": "code",
   "execution_count": null,
   "id": "0da5f0d9",
   "metadata": {},
   "outputs": [],
   "source": [
    "#4.3 다운받을 폴더 만들기\n",
    "# C:\\Users\\smhrd\\Python crowing 이미지 폴더를 만들고 이미지 저장\n",
    "if not os.path.isdir('C:/Users/smhrd/Python crowing/이미지'):\n",
    "    os.mkdir('C:/Users/smhrd/Python crowing/이미지')"
   ]
  },
  {
   "cell_type": "code",
   "execution_count": null,
   "id": "2fcfbaff",
   "metadata": {},
   "outputs": [],
   "source": [
    "#4.4 이미지 폴더에 이미지를 저장\n",
    "# 전체사진 인식을 하려면 시간이 필요\n",
    "count = 1\n",
    "for i in img_url:\n",
    "    #파일저장 경로 urlretrieve()\n",
    "    urlretrieve(i,'C:/Users/smhrd/Python crowing/이미지/' + str(count)+'.jpg')\n",
    "    count+=1"
   ]
  },
  {
   "cell_type": "markdown",
   "id": "bbf32d5c",
   "metadata": {},
   "source": [
    "#### 스타벅스 매장 지점명, 주소, 전화번호 수집"
   ]
  },
  {
   "cell_type": "code",
   "execution_count": 7,
   "id": "0c3c3d85",
   "metadata": {},
   "outputs": [],
   "source": [
    "url =\"https://www.starbucks.co.kr/store/store_map.do\"\n",
    "driver = wb.Chrome()\n",
    "driver.get(url)"
   ]
  },
  {
   "cell_type": "code",
   "execution_count": 8,
   "id": "14b721a7",
   "metadata": {},
   "outputs": [],
   "source": [
    "# 1. 지역검색 버튼을 클릭(클래스명 확인)\n",
    "serach = driver.find_element(By.CLASS_NAME,'loca_search')\n",
    "serach.click()"
   ]
  },
  {
   "cell_type": "code",
   "execution_count": 11,
   "id": "10d8137e",
   "metadata": {
    "collapsed": true
   },
   "outputs": [
    {
     "ename": "ElementNotInteractableException",
     "evalue": "Message: element not interactable\n  (Session info: chrome=104.0.5112.102)\nStacktrace:\nBacktrace:\n\tOrdinal0 [0x005C78B3+2193587]\n\tOrdinal0 [0x00560681+1771137]\n\tOrdinal0 [0x00474070+802928]\n\tOrdinal0 [0x004A3533+996659]\n\tOrdinal0 [0x00499223+954915]\n\tOrdinal0 [0x004BD7AC+1103788]\n\tOrdinal0 [0x00498C04+953348]\n\tOrdinal0 [0x004BD9C4+1104324]\n\tOrdinal0 [0x004CDAE2+1170146]\n\tOrdinal0 [0x004BD5C6+1103302]\n\tOrdinal0 [0x004977E0+948192]\n\tOrdinal0 [0x004986E6+952038]\n\tGetHandleVerifier [0x00870CB2+2738370]\n\tGetHandleVerifier [0x008621B8+2678216]\n\tGetHandleVerifier [0x006517AA+512954]\n\tGetHandleVerifier [0x00650856+509030]\n\tOrdinal0 [0x0056743B+1799227]\n\tOrdinal0 [0x0056BB68+1817448]\n\tOrdinal0 [0x0056BC55+1817685]\n\tOrdinal0 [0x00575230+1856048]\n\tBaseThreadInitThunk [0x77B3FA29+25]\n\tRtlGetAppContainerNamedObjectPath [0x77C87A9E+286]\n\tRtlGetAppContainerNamedObjectPath [0x77C87A6E+238]\n",
     "output_type": "error",
     "traceback": [
      "\u001b[1;31m---------------------------------------------------------------------------\u001b[0m",
      "\u001b[1;31mElementNotInteractableException\u001b[0m           Traceback (most recent call last)",
      "Input \u001b[1;32mIn [11]\u001b[0m, in \u001b[0;36m<cell line: 3>\u001b[1;34m()\u001b[0m\n\u001b[0;32m      1\u001b[0m \u001b[38;5;66;03m#  2. 광주지역 클릭(By.CSS_SELECTOR사용)\u001b[39;00m\n\u001b[0;32m      2\u001b[0m serach1 \u001b[38;5;241m=\u001b[39m driver\u001b[38;5;241m.\u001b[39mfind_element(By\u001b[38;5;241m.\u001b[39mCSS_SELECTOR,\u001b[38;5;124m'\u001b[39m\u001b[38;5;124mul.sido_arae_box>li+li+li\u001b[39m\u001b[38;5;124m'\u001b[39m)\n\u001b[1;32m----> 3\u001b[0m \u001b[43mserach1\u001b[49m\u001b[38;5;241;43m.\u001b[39;49m\u001b[43mclick\u001b[49m\u001b[43m(\u001b[49m\u001b[43m)\u001b[49m\n",
      "File \u001b[1;32m~\\anaconda3\\lib\\site-packages\\selenium\\webdriver\\remote\\webelement.py:88\u001b[0m, in \u001b[0;36mWebElement.click\u001b[1;34m(self)\u001b[0m\n\u001b[0;32m     86\u001b[0m \u001b[38;5;28;01mdef\u001b[39;00m \u001b[38;5;21mclick\u001b[39m(\u001b[38;5;28mself\u001b[39m) \u001b[38;5;241m-\u001b[39m\u001b[38;5;241m>\u001b[39m \u001b[38;5;28;01mNone\u001b[39;00m:\n\u001b[0;32m     87\u001b[0m     \u001b[38;5;124;03m\"\"\"Clicks the element.\"\"\"\u001b[39;00m\n\u001b[1;32m---> 88\u001b[0m     \u001b[38;5;28;43mself\u001b[39;49m\u001b[38;5;241;43m.\u001b[39;49m\u001b[43m_execute\u001b[49m\u001b[43m(\u001b[49m\u001b[43mCommand\u001b[49m\u001b[38;5;241;43m.\u001b[39;49m\u001b[43mCLICK_ELEMENT\u001b[49m\u001b[43m)\u001b[49m\n",
      "File \u001b[1;32m~\\anaconda3\\lib\\site-packages\\selenium\\webdriver\\remote\\webelement.py:396\u001b[0m, in \u001b[0;36mWebElement._execute\u001b[1;34m(self, command, params)\u001b[0m\n\u001b[0;32m    394\u001b[0m     params \u001b[38;5;241m=\u001b[39m {}\n\u001b[0;32m    395\u001b[0m params[\u001b[38;5;124m'\u001b[39m\u001b[38;5;124mid\u001b[39m\u001b[38;5;124m'\u001b[39m] \u001b[38;5;241m=\u001b[39m \u001b[38;5;28mself\u001b[39m\u001b[38;5;241m.\u001b[39m_id\n\u001b[1;32m--> 396\u001b[0m \u001b[38;5;28;01mreturn\u001b[39;00m \u001b[38;5;28;43mself\u001b[39;49m\u001b[38;5;241;43m.\u001b[39;49m\u001b[43m_parent\u001b[49m\u001b[38;5;241;43m.\u001b[39;49m\u001b[43mexecute\u001b[49m\u001b[43m(\u001b[49m\u001b[43mcommand\u001b[49m\u001b[43m,\u001b[49m\u001b[43m \u001b[49m\u001b[43mparams\u001b[49m\u001b[43m)\u001b[49m\n",
      "File \u001b[1;32m~\\anaconda3\\lib\\site-packages\\selenium\\webdriver\\remote\\webdriver.py:428\u001b[0m, in \u001b[0;36mWebDriver.execute\u001b[1;34m(self, driver_command, params)\u001b[0m\n\u001b[0;32m    426\u001b[0m response \u001b[38;5;241m=\u001b[39m \u001b[38;5;28mself\u001b[39m\u001b[38;5;241m.\u001b[39mcommand_executor\u001b[38;5;241m.\u001b[39mexecute(driver_command, params)\n\u001b[0;32m    427\u001b[0m \u001b[38;5;28;01mif\u001b[39;00m response:\n\u001b[1;32m--> 428\u001b[0m     \u001b[38;5;28;43mself\u001b[39;49m\u001b[38;5;241;43m.\u001b[39;49m\u001b[43merror_handler\u001b[49m\u001b[38;5;241;43m.\u001b[39;49m\u001b[43mcheck_response\u001b[49m\u001b[43m(\u001b[49m\u001b[43mresponse\u001b[49m\u001b[43m)\u001b[49m\n\u001b[0;32m    429\u001b[0m     response[\u001b[38;5;124m'\u001b[39m\u001b[38;5;124mvalue\u001b[39m\u001b[38;5;124m'\u001b[39m] \u001b[38;5;241m=\u001b[39m \u001b[38;5;28mself\u001b[39m\u001b[38;5;241m.\u001b[39m_unwrap_value(\n\u001b[0;32m    430\u001b[0m         response\u001b[38;5;241m.\u001b[39mget(\u001b[38;5;124m'\u001b[39m\u001b[38;5;124mvalue\u001b[39m\u001b[38;5;124m'\u001b[39m, \u001b[38;5;28;01mNone\u001b[39;00m))\n\u001b[0;32m    431\u001b[0m     \u001b[38;5;28;01mreturn\u001b[39;00m response\n",
      "File \u001b[1;32m~\\anaconda3\\lib\\site-packages\\selenium\\webdriver\\remote\\errorhandler.py:243\u001b[0m, in \u001b[0;36mErrorHandler.check_response\u001b[1;34m(self, response)\u001b[0m\n\u001b[0;32m    241\u001b[0m         alert_text \u001b[38;5;241m=\u001b[39m value[\u001b[38;5;124m'\u001b[39m\u001b[38;5;124malert\u001b[39m\u001b[38;5;124m'\u001b[39m]\u001b[38;5;241m.\u001b[39mget(\u001b[38;5;124m'\u001b[39m\u001b[38;5;124mtext\u001b[39m\u001b[38;5;124m'\u001b[39m)\n\u001b[0;32m    242\u001b[0m     \u001b[38;5;28;01mraise\u001b[39;00m exception_class(message, screen, stacktrace, alert_text)  \u001b[38;5;66;03m# type: ignore[call-arg]  # mypy is not smart enough here\u001b[39;00m\n\u001b[1;32m--> 243\u001b[0m \u001b[38;5;28;01mraise\u001b[39;00m exception_class(message, screen, stacktrace)\n",
      "\u001b[1;31mElementNotInteractableException\u001b[0m: Message: element not interactable\n  (Session info: chrome=104.0.5112.102)\nStacktrace:\nBacktrace:\n\tOrdinal0 [0x005C78B3+2193587]\n\tOrdinal0 [0x00560681+1771137]\n\tOrdinal0 [0x00474070+802928]\n\tOrdinal0 [0x004A3533+996659]\n\tOrdinal0 [0x00499223+954915]\n\tOrdinal0 [0x004BD7AC+1103788]\n\tOrdinal0 [0x00498C04+953348]\n\tOrdinal0 [0x004BD9C4+1104324]\n\tOrdinal0 [0x004CDAE2+1170146]\n\tOrdinal0 [0x004BD5C6+1103302]\n\tOrdinal0 [0x004977E0+948192]\n\tOrdinal0 [0x004986E6+952038]\n\tGetHandleVerifier [0x00870CB2+2738370]\n\tGetHandleVerifier [0x008621B8+2678216]\n\tGetHandleVerifier [0x006517AA+512954]\n\tGetHandleVerifier [0x00650856+509030]\n\tOrdinal0 [0x0056743B+1799227]\n\tOrdinal0 [0x0056BB68+1817448]\n\tOrdinal0 [0x0056BC55+1817685]\n\tOrdinal0 [0x00575230+1856048]\n\tBaseThreadInitThunk [0x77B3FA29+25]\n\tRtlGetAppContainerNamedObjectPath [0x77C87A9E+286]\n\tRtlGetAppContainerNamedObjectPath [0x77C87A6E+238]\n"
     ]
    }
   ],
   "source": [
    "#  2. 광주지역 클릭(By.CSS_SELECTOR사용)\n",
    "serach1 = driver.find_element(By.CSS_SELECTOR,'ul.sido_arae_box>li+li+li')\n",
    "serach1.click()"
   ]
  },
  {
   "cell_type": "code",
   "execution_count": 12,
   "id": "1f9f47af",
   "metadata": {},
   "outputs": [],
   "source": [
    "# 3. 광주지역에서 전체 지역 클릭(By.CSS_SELECTOR사용)\n",
    "serach2 = driver.find_element(By.CSS_SELECTOR,'ul.gugun_arae_box>li')\n",
    "serach2.click()"
   ]
  },
  {
   "cell_type": "code",
   "execution_count": null,
   "id": "d8624ccc",
   "metadata": {},
   "outputs": [],
   "source": [
    "# 4. ㅁㅇㄴㄻㄴㅇㄻㄴㅇㄻㄴㅇㄻㄴㅇㄻㄴㅇㄻㄴㅇㄹㄴㅁㅇㄹ먼아림;ㄴ이ㅏ러ㅏㅁㄴ이;낭러ㅣㅏㅓㅣㅏㅓㅣㅏㅓㅣ;ㅏㅓㅣㅏㅓㅣㅏㅓㅁㄴㅇ라ㅣ먼아ㅣ럼나이러미나얼미나어림낭럼낭런ㅁ아리ㅓㅇㄴ이라ㅓㄴㅇ리ㅏㅇ런란랄럴러럼ㅇㄴㄻㅇㄻㄴㅇㄻㅇㄹㅇㅇㅁ러ㅓㅓ러ㅓ어ㅓㄴㅇㅁ링ㅁ나ㅣㅓ리ㅏㅁ너이라너;얾ㄴ;ㅇ라먼ㅇ;람넝;란멍;라ㅓㅁㄴ;아ㅓㄻ;ㄴ얼ㄴㅁ;아럼닝;럼ㄴ아럼;ㅣ나얼;마askdfjalksjdfklasjdflkasjdkfljaskdjfkasdjfㅁ낭러ㅣㅁ나어ㅏㅣ럼나어람ㄴ어ㅏ리ㅓㄴㅁ아리ㅓㅇ마이ㅓㄹ나ㅣㅓㅇ랑낭ㄴ나녀허낭히센얼ㅇ루윪ㄴ유림낭러만어란사라렬자루잇ㄴ엔영리나머리ㅏㅓㅁ나얼미ㅏㄴㅇㄴ나ㅣㅓㅁ낭ㄻ이미캍카ㅏ캌카카타카카타탗타차파ㅏ파ㅏㅠㅏㅠㅏㅍ처ㅠㅏㅌ처ㅠㅏㅊ퍼ㅠㅏㅌ처ㅠㅏ핓탙ㅍㅊ튜ㅣ파피차퍼치차퍼치파치ㅏ피치파치ㅏㅍ파ㅣ퍼피ㅏㅓ피ㅏ퍼피퍼ㅏ퍼피ㅏ퍼피ㅏ퍼핖파ㅓㅍ파ㅓㅍ피피ㅓㅣㅏㅓㅓㅠㅠ넝ㄹ;ㅁ나얼ㄴㅁ;아럼ㄴ;아럼;"
   ]
  },
  {
   "cell_type": "code",
   "execution_count": 13,
   "id": "6ba21975",
   "metadata": {},
   "outputs": [],
   "source": [
    "soup = bs(driver.page_source,'lxml')"
   ]
  },
  {
   "attachments": {
    "image.png": {
     "image/png": "[encoded data removed]"
    }
   },
   "cell_type": "markdown",
   "id": "a809af7f",
   "metadata": {},
   "source": [
    "![image.png](attachment:image.png)"
   ]
  },
  {
   "cell_type": "code",
   "execution_count": 14,
   "id": "bd0778f5",
   "metadata": {},
   "outputs": [],
   "source": [
    "#names =\n",
    "names=soup.select('ul.quickSearchResultBoxSidoGugun > li.quickResultLstCon>strong')\n",
    "len(names)\n",
    "#addr = soup.select('ul.quickSearchResultBoxSidoGugun > li.quickResultLstCon>p')\n",
    "name = soup.select('ul.quickSearchResultBoxSidoGugun > li.quickResultLstCon>strong')"
   ]
  },
  {
   "cell_type": "code",
   "execution_count": 15,
   "id": "d7c2110e",
   "metadata": {},
   "outputs": [
    {
     "data": {
      "text/plain": [
       "(58, 58, 58)"
      ]
     },
     "execution_count": 15,
     "metadata": {},
     "output_type": "execute_result"
    }
   ],
   "source": [
    "#지점명,주소,전화번호\n",
    "names = []\n",
    "addrs = []\n",
    "tels = []\n",
    "length = soup.select('ul.quickSearchResultBoxSidoGugun > li.quickResultLstCon>strong')\n",
    "for i in range(len(length)):\n",
    "    name = soup.select('ul.quickSearchResultBoxSidoGugun > li.quickResultLstCon>strong')[i].text.strip()\n",
    "    addr = soup.select('li.quickResultLstCon>p')[i].text[:-9]\n",
    "    tel = soup.select('li.quickResultLstCon>p')[i].text[-9:]\n",
    "    \n",
    "    names.append(name)\n",
    "    addrs.append(addr)\n",
    "    tels.append(tel)\n",
    "len(names), len(addrs), len(tels)"
   ]
  },
  {
   "cell_type": "code",
   "execution_count": 16,
   "id": "aa2bd978",
   "metadata": {},
   "outputs": [],
   "source": [
    "starbuck = pd.DataFrame({'names':names,'addrs':addrs,'tels':tels})\n",
    "starbuck.set_index('names',inplace=True)"
   ]
  },
  {
   "cell_type": "code",
   "execution_count": 17,
   "id": "f75ad7fe",
   "metadata": {},
   "outputs": [],
   "source": [
    "starbuck.to_csv('starbuck.csv',encoding='utf-8')"
   ]
  },
  {
   "cell_type": "markdown",
   "id": "9c13234f",
   "metadata": {},
   "source": [
    "#### 스타벅스 영양정보 가져오기"
   ]
  },
  {
   "cell_type": "code",
   "execution_count": 18,
   "id": "e9510498",
   "metadata": {},
   "outputs": [],
   "source": [
    "driver = wb.Chrome()\n",
    "driver.get(\"https://www.starbucks.co.kr/menu/drink_list.do\")"
   ]
  },
  {
   "cell_type": "code",
   "execution_count": 19,
   "id": "0d98e21d",
   "metadata": {},
   "outputs": [],
   "source": [
    "search = driver.find_element(By.CLASS_NAME,\"a2\").click()\n",
    "search"
   ]
  },
  {
   "cell_type": "code",
   "execution_count": 20,
   "id": "fb7b9177",
   "metadata": {},
   "outputs": [
    {
     "data": {
      "text/plain": [
       "134"
      ]
     },
     "execution_count": 20,
     "metadata": {},
     "output_type": "execute_result"
    }
   ],
   "source": [
    "#페이지요청하기\n",
    "soup = bs(driver.page_source,'lxml')\n",
    "coffee_info = soup.select('.coffeeInfo.mb60>tbody > tr')\n",
    "#.coffeelnfo.mb60 mb60\n",
    "len(coffee_info)\n",
    "# coffee_infos = soup.select('.coffeeInfo.mb60>tbody > tr ')\n",
    "# menuName = coffee_info[0]\n",
    "# kcal = coffee_info[1]\n",
    "# sugar = coffee_info[2]\n",
    "# protein = coffee_info[3]\n",
    "# natrium = coffee_info[4]\n",
    "# fat = coffee_info[5]\n",
    "# cafeeine = coffee_info[6]"
   ]
  },
  {
   "cell_type": "code",
   "execution_count": 21,
   "id": "96142c89",
   "metadata": {},
   "outputs": [
    {
     "name": "stdout",
     "output_type": "stream",
     "text": [
      " 나이트로 바닐라 크림 80 10 1 40 2 232 \n",
      " 나이트로 콜드 브루 5 0 0 5 0 245 \n",
      " 돌체 콜드 브루 265 29 8 130 9 150 \n",
      " 바닐라 크림 콜드 브루 125 11 3 58 6 150 \n",
      " 벨벳 다크 모카 나이트로 150 17 2 15 6 190 \n",
      " 시그니처 더 블랙 콜드 브루 25 0 0 50 0 680 \n",
      " 제주 비자림 콜드 브루 340 43 10 140 8 105 \n",
      " 콜드 브루 5 0 0 11 0 150 \n",
      " 콜드 브루 몰트 505 41 7 150 20 190 \n",
      " 콜드 브루 오트 라떼 120 14 1 95 0.3 65 \n",
      " 콜드 브루 플로트 225 18 3 70 10 190 \n",
      " 아이스 커피 5 0 0 10 0 140 \n",
      " 오늘의 커피 5 0 0 10 0 260 \n",
      " 에스프레소 콘 파나 30 1 0 0 1.5 75 \n",
      " 에스프레소 마키아또 10 0 1 0 0 75 \n",
      " 아이스 카페 아메리카노 10 0 1 5 0 150 \n",
      " 카페 아메리카노 10 0 1 5 0 150 \n",
      " 아이스 카라멜 마키아또 190 22 6 110 4.6 75 \n",
      " 카라멜 마키아또 200 22 8 130 5 75 \n",
      " 아이스 카푸치노 115 9 6 90 3.5 75 \n",
      " 카푸치노 110 8 6 70 3 75 \n",
      " 라벤더 카페 브레베 400 30 8 140 22 105 \n",
      " 럼 샷 코르타도 70 8 3 45 1.8 160 \n",
      " 바닐라 빈 라떼 245 27 9 150 6 210 \n",
      " 사케라또 비안코 오버 아이스 270 14 3 45 18 315 \n",
      " 스타벅스 돌체 라떼 255 39 12 190 2.6 150 \n",
      " 아이스 라벤더 카페 브레베 335 27 6 110 18 105 \n",
      " 아이스 바닐라 빈 라떼 155 20 5 75 2.9 210 \n",
      " 아이스 스타벅스 돌체 라떼 230 35 10 145 2.5 150 \n",
      " 아이스 카페 라떼 110 8 6 75 3.5 75 \n",
      " 카페 라떼 180 13 10 115 5 75 \n",
      " 아이스 카페 모카 250 21 7 70 8 95 \n",
      " 아이스 화이트 초콜릿 모카 260 27 7 75 8 75 \n",
      " 카페 모카 290 25 10 105 9 95 \n",
      " 화이트 초콜릿 모카 345 35 11 150 11 75 \n",
      " 바닐라 플랫 화이트 220 23 9 130 5 260 \n",
      " 라벤더 블론드 스타벅스 더블 샷 150 14 3 40 6 170 \n",
      " 바닐라 스타벅스 더블 샷 125 14 2 30 4.5 150 \n",
      " 블론드 바닐라 더블 샷 마키아또 315 31 8 130 12 170 \n",
      " 사케라또 아포가토 290 30 4 70 10 210 \n",
      " 스파클링 시트러스 에스프레소 65 15 0 5 0 105 \n",
      " 아이스 블론드 바닐라 더블 샷 마키아또 195 22 5 65 6 170 \n",
      " 에스프레소 5 0 0 0 0 75 \n",
      " 커피 스타벅스 더블 샷 125 14 3 28.5 5 150 \n",
      " 클래식 아포가토 240 18 4 70 10 210 \n",
      " 헤이즐넛 스타벅스 더블 샷 125 14 3 28.5 5 150 \n",
      " 우리 쑥 크림 프라푸치노 with 콜드 브루 330 50 8 400 4.9 55 \n",
      " 더블 에스프레소 칩 프라푸치노 265 31 4 140 11 130 \n",
      " 모카 프라푸치노 280 36 5 180 6 90 \n",
      " 에스프레소 프라푸치노 145 29 2 115 1.1 120 \n",
      " 자바 칩 프라푸치노 340 42 6 180 9 100 \n",
      " 카라멜 프라푸치노 300 39 4 190 7 85 \n",
      " 화이트 초콜릿 모카 프라푸치노 245 38 4 140 6 85 \n",
      " 바닐라 크림 프라푸치노 200 28 4 150 6 0 \n",
      " 제주 까망 크림 프라푸치노 600 79 9 330 7 0 \n",
      " 제주 쑥떡 크림 프라푸치노 460 57 8 250 10 0 \n",
      " 제주 유기농 말차로 만든 크림 프라푸치노 230 28 5 150 7 60 \n",
      " 초콜릿 크림 칩 프라푸치노 300 40 6 160 7 10 \n",
      " 화이트 타이거 프라푸치노 410 57 5 220 14 0 \n",
      " 쿨 서머 캐모마일 블렌디드 205 37 0 5 0 0 \n",
      " 망고 패션 프루트 블렌디드 120 25 1 70 0 35 \n",
      " 딸기 딜라이트 요거트 블렌디드 370 57 9 110 4.3 0 \n",
      " 레드 파워 스매시 블렌디드 270 49 1 30 0 17 \n",
      " 망고 바나나 블렌디드 270 48 4 110 1 0 \n",
      " 민트 초콜릿 칩 블렌디드 455 52 9 190 14 0 \n",
      " 제주 그린 한라봉 모히또 블렌디드 160 37 0 5 0 0 \n",
      " 딸기 아사이 레모네이드 스타벅스 리프레셔 105 24 1 0 0 30 \n",
      " 핑크 드링크 위드 딸기 아사이 스타벅스 리프레셔 100 18 1 40 0 30 \n",
      " 블랙 티 레모네이드 피지오 65 17 0 0 0 30 \n",
      " 유자 패션 피지오 145 36 0 5 0 0 \n",
      " 쿨 라임 피지오 105 25 0 20 0 110 \n",
      " 패션 탱고 티 레모네이드 피지오 65 17 0 0.2 0 0 \n",
      " 민트 블렌드 티 0 0 0 0 0 0 \n",
      " 아이스 민트 블렌드 티 0 0 0 0 0 0 \n",
      " 아이스 얼 그레이 티 0 0 0 0 0 50 \n",
      " 아이스 유스베리 티 0 0 0 0 0 20 \n",
      " 아이스 유자 민트 티 145 37 0 5 0 0 \n",
      " 아이스 잉글리쉬 브렉퍼스트 티 0 0 0 0 0 40 \n",
      " 아이스 제주 유기 녹차 0 0 0 0 0 16 \n",
      " 아이스 캐모마일 블렌드 티 0 0 0 0 0 0 \n",
      " 아이스 히비스커스 블렌드 티 0 0 0 0 0 0 \n",
      " 얼 그레이 티 0 0 0 0 0 70 \n",
      " 유스베리 로즈 티 브리즈 165 38 0 20 0 20 \n",
      " 유스베리 티 0 0 0 0 0 20 \n",
      " 유자 민트 티 235 58 0 10 0 0 \n",
      " 잉글리쉬 브렉퍼스트 티 0 0 0 0 0 70 \n",
      " 자몽 허니 블랙 티 125 30 0 5 0 70 \n",
      " 제주 유기 녹차 0 0 0 0 0 16 \n",
      " 캐모마일 블렌드 티 0 0 0 0 0 0 \n",
      " 히비스커스 블렌드 티 0 0 0 0 0 0 \n",
      " 아이스 유스베리 로즈 티 브리즈 120 27 0 15 0 12 \n",
      " 아이스 자몽 허니 블랙 티 125 30 0 5 0 30 \n",
      " 제주 그린 티 브리즈 220 31 0 0 0 42 \n",
      " 제주 키위 오션 그린티 195 37 0 15 0 10 \n",
      " 폼폼 민트 티 210 42 0 5 0 0 \n",
      " 폼폼 유스베리 티 210 42 0 5 0 10 \n",
      " 돌체 블랙 밀크 티 250 34 8 115 5 60 \n",
      " 아이스 돌체 블랙 밀크 티 210 31 6 85 3.7 35 \n",
      " 아이스 제주 유기농 말차로 만든 라떼 155 16 6 95 3.6 60 \n",
      " 아이스 차이 티 라떼 190 31 5 70 3 70 \n",
      " 아이스 허니 얼 그레이 밀크 티 220 31 4 65 2.4 52 \n",
      " 제주 유기농 말차로 만든 라떼 205 20 9 130 5 60 \n",
      " 차이 티 라떼 200 31 6 70 3 70 \n",
      " 허니 얼 그레이 밀크 티 395 45 12 210 8 70 \n",
      " 제주 청귤 라임 에이드 185 37 0 65 0 0 \n",
      " 시그니처 핫 초콜릿 500 52 15 105 9 15 \n",
      " 아이스 시그니처 초콜릿 325 32 10 70 7 15 \n",
      " 플러피 판다 아이스 초콜릿 415 39 11 150 16 0 \n",
      " 플러피 판다 핫 초콜릿 470 48 12 160 17 0 \n",
      " 레드 파워 스매셔 370 67 1 40 0 25 \n",
      " 스타벅스 슬래머 235 55 0 0 0 0 \n",
      " 스팀 우유 215 18 13 173 7 0 \n",
      " 아이스 제주 까망 라떼 440 45 10 210 11 0 \n",
      " 우유 240 18 12 200 8 0 \n",
      " 제주 까망 라떼 445 49 13 250 7 0 \n",
      " 제주 쑥쑥 라떼 425 50 16 210 9 0 \n",
      " 기운내라임 190ML 90 22 1 5 0 0 \n",
      " 파이팅 청귤 190ML 95 22 1 5 0 0 \n",
      " 한방에 쭉 감당 190ML 100 23 1 10 0 0 \n",
      " 딸기주스 190ML 110 25 0 30 0 0 \n",
      " 망고주스 190ML 117 23 1 15 0 0 \n",
      " 스타 루비 자몽 스위트 190ML 129 32 0.2 5 0 0 \n",
      " 스타 루비 자몽 스위트 591ML 406 100 0.6 10 0 0 \n",
      " 유기농 오렌지 100% 주스 190ML 95 20 2 5 0 0 \n",
      " 유기농 오렌지 100% 주스 591ML 290 62 6 10 0.6 0 \n",
      " 케일&사과주스 190ML 105 26 0 25 0 0 \n",
      " 토마토주스 190ML 70 16 1 120 0 0 \n",
      " 핑크 용과 레모네이드 190ML 88 19 0 5 0 0 \n",
      " 한라봉주스 190ML 78 16 0.5 10 0 0 \n",
      " 햇사과 주스 190ML 113 27 0.2 10 0 0 \n",
      " 딸기 가득 요거트 190ML 155 21 4 50 3.2 0 \n",
      " 블루베리 요거트 190ML 155 18 5 70 3.6 0 \n",
      " 애플망고 코코넛 190ML 244 21 3 9 11 0 \n",
      " 한라봉 코코넛 190ML 236 19 3 9 10 0 \n"
     ]
    }
   ],
   "source": [
    "for i in coffee_info:\n",
    "    print(i.text)"
   ]
  },
  {
   "cell_type": "code",
   "execution_count": 22,
   "id": "c71c06a8",
   "metadata": {},
   "outputs": [
    {
     "data": {
      "text/plain": [
       "'나이트로 바닐라 크림'"
      ]
     },
     "execution_count": 22,
     "metadata": {},
     "output_type": "execute_result"
    }
   ],
   "source": [
    "coffee_info[0].select('td')[0].text"
   ]
  },
  {
   "cell_type": "code",
   "execution_count": 23,
   "id": "b28c2694",
   "metadata": {},
   "outputs": [],
   "source": [
    "#6가지 영양 정보 가져오기\n",
    "menuNames = []\n",
    "kcals = []\n",
    "sugars = []\n",
    "proteins = []\n",
    "natriums = []\n",
    "fats = []\n",
    "cafeeines = []\n",
    "\n",
    "length = soup.select(\"tbody > tr\")\n",
    "\n",
    "for i in coffee_info:\n",
    "    menuNames.append(i.select('td')[0].text)\n",
    "    kcals.append(i.select('td')[0].text)\n",
    "    sugars.append(i.select('td')[0].text)\n",
    "    proteins.append(i.select('td')[0].text)\n",
    "    natriums.append(i.select('td')[0].text)\n",
    "    fats.append(i.select('td')[0].text)\n",
    "    cafeeines.append(i.select('td')[0].text)\n",
    "    \n",
    "    "
   ]
  },
  {
   "cell_type": "code",
   "execution_count": 24,
   "id": "6e010747",
   "metadata": {},
   "outputs": [
    {
     "data": {
      "text/plain": [
       "'바닐라 크림 콜드 브루'"
      ]
     },
     "execution_count": 24,
     "metadata": {},
     "output_type": "execute_result"
    }
   ],
   "source": [
    "menuNames[3]"
   ]
  },
  {
   "cell_type": "code",
   "execution_count": 25,
   "id": "e3885761",
   "metadata": {},
   "outputs": [
    {
     "data": {
      "text/plain": [
       "(134, 134, 134, 134, 134, 134, 134)"
      ]
     },
     "execution_count": 25,
     "metadata": {},
     "output_type": "execute_result"
    }
   ],
   "source": [
    "len(menuNames),len(kcals),len(sugars),len(proteins),len(natriums),len(fats),len(cafeeines)"
   ]
  },
  {
   "cell_type": "code",
   "execution_count": 26,
   "id": "1df2c409",
   "metadata": {},
   "outputs": [],
   "source": [
    "# menuNames\n",
    "# kcals\n",
    "# sugars\n",
    "# proteins\n",
    "# natriums\n",
    "# fats\n",
    "# cafeeines"
   ]
  },
  {
   "cell_type": "code",
   "execution_count": 27,
   "id": "eb7ab75c",
   "metadata": {},
   "outputs": [],
   "source": [
    "coffee_dic = pd.DataFrame({'메뉴명':menuNames, '칼로리':kcals, '설탕':sugars,\n",
    "             'protenis':proteins, 'natriums':natriums, 'fats':fats,\n",
    "             'cafeeines':cafeeines})\n",
    "\n",
    "# starbuck = pd.DataFrame({'names':names,'addrs':addrs,'tels':tels})"
   ]
  },
  {
   "cell_type": "code",
   "execution_count": 28,
   "id": "d69d2eda",
   "metadata": {},
   "outputs": [
    {
     "data": {
      "text/html": [
       "<div>\n",
       "<style scoped>\n",
       "    .dataframe tbody tr th:only-of-type {\n",
       "        vertical-align: middle;\n",
       "    }\n",
       "\n",
       "    .dataframe tbody tr th {\n",
       "        vertical-align: top;\n",
       "    }\n",
       "\n",
       "    .dataframe thead th {\n",
       "        text-align: right;\n",
       "    }\n",
       "</style>\n",
       "<table border=\"1\" class=\"dataframe\">\n",
       "  <thead>\n",
       "    <tr style=\"text-align: right;\">\n",
       "      <th></th>\n",
       "      <th>메뉴명</th>\n",
       "      <th>칼로리</th>\n",
       "      <th>설탕</th>\n",
       "      <th>protenis</th>\n",
       "      <th>natriums</th>\n",
       "      <th>fats</th>\n",
       "      <th>cafeeines</th>\n",
       "    </tr>\n",
       "  </thead>\n",
       "  <tbody>\n",
       "    <tr>\n",
       "      <th>0</th>\n",
       "      <td>나이트로 바닐라 크림</td>\n",
       "      <td>나이트로 바닐라 크림</td>\n",
       "      <td>나이트로 바닐라 크림</td>\n",
       "      <td>나이트로 바닐라 크림</td>\n",
       "      <td>나이트로 바닐라 크림</td>\n",
       "      <td>나이트로 바닐라 크림</td>\n",
       "      <td>나이트로 바닐라 크림</td>\n",
       "    </tr>\n",
       "    <tr>\n",
       "      <th>1</th>\n",
       "      <td>나이트로 콜드 브루</td>\n",
       "      <td>나이트로 콜드 브루</td>\n",
       "      <td>나이트로 콜드 브루</td>\n",
       "      <td>나이트로 콜드 브루</td>\n",
       "      <td>나이트로 콜드 브루</td>\n",
       "      <td>나이트로 콜드 브루</td>\n",
       "      <td>나이트로 콜드 브루</td>\n",
       "    </tr>\n",
       "    <tr>\n",
       "      <th>2</th>\n",
       "      <td>돌체 콜드 브루</td>\n",
       "      <td>돌체 콜드 브루</td>\n",
       "      <td>돌체 콜드 브루</td>\n",
       "      <td>돌체 콜드 브루</td>\n",
       "      <td>돌체 콜드 브루</td>\n",
       "      <td>돌체 콜드 브루</td>\n",
       "      <td>돌체 콜드 브루</td>\n",
       "    </tr>\n",
       "    <tr>\n",
       "      <th>3</th>\n",
       "      <td>바닐라 크림 콜드 브루</td>\n",
       "      <td>바닐라 크림 콜드 브루</td>\n",
       "      <td>바닐라 크림 콜드 브루</td>\n",
       "      <td>바닐라 크림 콜드 브루</td>\n",
       "      <td>바닐라 크림 콜드 브루</td>\n",
       "      <td>바닐라 크림 콜드 브루</td>\n",
       "      <td>바닐라 크림 콜드 브루</td>\n",
       "    </tr>\n",
       "    <tr>\n",
       "      <th>4</th>\n",
       "      <td>벨벳 다크 모카 나이트로</td>\n",
       "      <td>벨벳 다크 모카 나이트로</td>\n",
       "      <td>벨벳 다크 모카 나이트로</td>\n",
       "      <td>벨벳 다크 모카 나이트로</td>\n",
       "      <td>벨벳 다크 모카 나이트로</td>\n",
       "      <td>벨벳 다크 모카 나이트로</td>\n",
       "      <td>벨벳 다크 모카 나이트로</td>\n",
       "    </tr>\n",
       "    <tr>\n",
       "      <th>...</th>\n",
       "      <td>...</td>\n",
       "      <td>...</td>\n",
       "      <td>...</td>\n",
       "      <td>...</td>\n",
       "      <td>...</td>\n",
       "      <td>...</td>\n",
       "      <td>...</td>\n",
       "    </tr>\n",
       "    <tr>\n",
       "      <th>129</th>\n",
       "      <td>햇사과 주스 190ML</td>\n",
       "      <td>햇사과 주스 190ML</td>\n",
       "      <td>햇사과 주스 190ML</td>\n",
       "      <td>햇사과 주스 190ML</td>\n",
       "      <td>햇사과 주스 190ML</td>\n",
       "      <td>햇사과 주스 190ML</td>\n",
       "      <td>햇사과 주스 190ML</td>\n",
       "    </tr>\n",
       "    <tr>\n",
       "      <th>130</th>\n",
       "      <td>딸기 가득 요거트 190ML</td>\n",
       "      <td>딸기 가득 요거트 190ML</td>\n",
       "      <td>딸기 가득 요거트 190ML</td>\n",
       "      <td>딸기 가득 요거트 190ML</td>\n",
       "      <td>딸기 가득 요거트 190ML</td>\n",
       "      <td>딸기 가득 요거트 190ML</td>\n",
       "      <td>딸기 가득 요거트 190ML</td>\n",
       "    </tr>\n",
       "    <tr>\n",
       "      <th>131</th>\n",
       "      <td>블루베리 요거트 190ML</td>\n",
       "      <td>블루베리 요거트 190ML</td>\n",
       "      <td>블루베리 요거트 190ML</td>\n",
       "      <td>블루베리 요거트 190ML</td>\n",
       "      <td>블루베리 요거트 190ML</td>\n",
       "      <td>블루베리 요거트 190ML</td>\n",
       "      <td>블루베리 요거트 190ML</td>\n",
       "    </tr>\n",
       "    <tr>\n",
       "      <th>132</th>\n",
       "      <td>애플망고 코코넛 190ML</td>\n",
       "      <td>애플망고 코코넛 190ML</td>\n",
       "      <td>애플망고 코코넛 190ML</td>\n",
       "      <td>애플망고 코코넛 190ML</td>\n",
       "      <td>애플망고 코코넛 190ML</td>\n",
       "      <td>애플망고 코코넛 190ML</td>\n",
       "      <td>애플망고 코코넛 190ML</td>\n",
       "    </tr>\n",
       "    <tr>\n",
       "      <th>133</th>\n",
       "      <td>한라봉 코코넛 190ML</td>\n",
       "      <td>한라봉 코코넛 190ML</td>\n",
       "      <td>한라봉 코코넛 190ML</td>\n",
       "      <td>한라봉 코코넛 190ML</td>\n",
       "      <td>한라봉 코코넛 190ML</td>\n",
       "      <td>한라봉 코코넛 190ML</td>\n",
       "      <td>한라봉 코코넛 190ML</td>\n",
       "    </tr>\n",
       "  </tbody>\n",
       "</table>\n",
       "<p>134 rows × 7 columns</p>\n",
       "</div>"
      ],
      "text/plain": [
       "                 메뉴명              칼로리               설탕         protenis  \\\n",
       "0        나이트로 바닐라 크림      나이트로 바닐라 크림      나이트로 바닐라 크림      나이트로 바닐라 크림   \n",
       "1         나이트로 콜드 브루       나이트로 콜드 브루       나이트로 콜드 브루       나이트로 콜드 브루   \n",
       "2           돌체 콜드 브루         돌체 콜드 브루         돌체 콜드 브루         돌체 콜드 브루   \n",
       "3       바닐라 크림 콜드 브루     바닐라 크림 콜드 브루     바닐라 크림 콜드 브루     바닐라 크림 콜드 브루   \n",
       "4      벨벳 다크 모카 나이트로    벨벳 다크 모카 나이트로    벨벳 다크 모카 나이트로    벨벳 다크 모카 나이트로   \n",
       "..               ...              ...              ...              ...   \n",
       "129     햇사과 주스 190ML     햇사과 주스 190ML     햇사과 주스 190ML     햇사과 주스 190ML   \n",
       "130  딸기 가득 요거트 190ML  딸기 가득 요거트 190ML  딸기 가득 요거트 190ML  딸기 가득 요거트 190ML   \n",
       "131   블루베리 요거트 190ML   블루베리 요거트 190ML   블루베리 요거트 190ML   블루베리 요거트 190ML   \n",
       "132   애플망고 코코넛 190ML   애플망고 코코넛 190ML   애플망고 코코넛 190ML   애플망고 코코넛 190ML   \n",
       "133    한라봉 코코넛 190ML    한라봉 코코넛 190ML    한라봉 코코넛 190ML    한라봉 코코넛 190ML   \n",
       "\n",
       "            natriums             fats        cafeeines  \n",
       "0        나이트로 바닐라 크림      나이트로 바닐라 크림      나이트로 바닐라 크림  \n",
       "1         나이트로 콜드 브루       나이트로 콜드 브루       나이트로 콜드 브루  \n",
       "2           돌체 콜드 브루         돌체 콜드 브루         돌체 콜드 브루  \n",
       "3       바닐라 크림 콜드 브루     바닐라 크림 콜드 브루     바닐라 크림 콜드 브루  \n",
       "4      벨벳 다크 모카 나이트로    벨벳 다크 모카 나이트로    벨벳 다크 모카 나이트로  \n",
       "..               ...              ...              ...  \n",
       "129     햇사과 주스 190ML     햇사과 주스 190ML     햇사과 주스 190ML  \n",
       "130  딸기 가득 요거트 190ML  딸기 가득 요거트 190ML  딸기 가득 요거트 190ML  \n",
       "131   블루베리 요거트 190ML   블루베리 요거트 190ML   블루베리 요거트 190ML  \n",
       "132   애플망고 코코넛 190ML   애플망고 코코넛 190ML   애플망고 코코넛 190ML  \n",
       "133    한라봉 코코넛 190ML    한라봉 코코넛 190ML    한라봉 코코넛 190ML  \n",
       "\n",
       "[134 rows x 7 columns]"
      ]
     },
     "execution_count": 28,
     "metadata": {},
     "output_type": "execute_result"
    }
   ],
   "source": [
    "pd.DataFrame(coffee_dic)"
   ]
  },
  {
   "cell_type": "code",
   "execution_count": 29,
   "id": "a73a4c73",
   "metadata": {},
   "outputs": [],
   "source": [
    "import pandas as pd\n",
    "coffee_info = pd.DataFrame(coffee_dic)"
   ]
  },
  {
   "cell_type": "code",
   "execution_count": 30,
   "id": "ffe748e1",
   "metadata": {},
   "outputs": [],
   "source": [
    "coffee_info.to_csv('coffee_info',encoding='utf-8')"
   ]
  },
  {
   "cell_type": "code",
   "execution_count": null,
   "id": "416d96ce",
   "metadata": {},
   "outputs": [],
   "source": []
  }
 ],
 "metadata": {
  "kernelspec": {
   "display_name": "Python 3 (ipykernel)",
   "language": "python",
   "name": "python3"
  },
  "language_info": {
   "codemirror_mode": {
    "name": "ipython",
    "version": 3
   },
   "file_extension": ".py",
   "mimetype": "text/x-python",
   "name": "python",
   "nbconvert_exporter": "python",
   "pygments_lexer": "ipython3",
   "version": "3.9.12"
  }
 },
 "nbformat": 4,
 "nbformat_minor": 5
}

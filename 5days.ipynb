{
 "cells": [
  {
   "cell_type": "markdown",
   "id": "cfb7e655",
   "metadata": {},
   "source": [
    "#### Selenium 모듈\n",
    "- 웹 페이지를 제어하기위한 모듈\n",
    "- !pip install selenium"
   ]
  },
  {
   "cell_type": "code",
   "execution_count": 3,
   "id": "12b3e7bd",
   "metadata": {
    "collapsed": true
   },
   "outputs": [
    {
     "name": "stdout",
     "output_type": "stream",
     "text": [
      "Collecting selenium\n",
      "  Downloading selenium-4.4.3-py3-none-any.whl (985 kB)\n",
      "Requirement already satisfied: urllib3[socks]~=1.26 in c:\\users\\smhrd\\anaconda3\\lib\\site-packages (from selenium) (1.26.9)\n",
      "Requirement already satisfied: certifi>=2021.10.8 in c:\\users\\smhrd\\anaconda3\\lib\\site-packages (from selenium) (2021.10.8)\n",
      "Collecting trio~=0.17\n",
      "  Downloading trio-0.21.0-py3-none-any.whl (358 kB)\n",
      "Collecting trio-websocket~=0.9\n",
      "  Downloading trio_websocket-0.9.2-py3-none-any.whl (16 kB)\n",
      "Collecting async-generator>=1.9\n",
      "  Downloading async_generator-1.10-py3-none-any.whl (18 kB)\n",
      "Requirement already satisfied: cffi>=1.14 in c:\\users\\smhrd\\anaconda3\\lib\\site-packages (from trio~=0.17->selenium) (1.15.0)\n",
      "Requirement already satisfied: attrs>=19.2.0 in c:\\users\\smhrd\\anaconda3\\lib\\site-packages (from trio~=0.17->selenium) (21.4.0)\n",
      "Requirement already satisfied: sortedcontainers in c:\\users\\smhrd\\anaconda3\\lib\\site-packages (from trio~=0.17->selenium) (2.4.0)\n",
      "Requirement already satisfied: idna in c:\\users\\smhrd\\anaconda3\\lib\\site-packages (from trio~=0.17->selenium) (3.3)\n",
      "Collecting outcome\n",
      "  Downloading outcome-1.2.0-py2.py3-none-any.whl (9.7 kB)\n",
      "Requirement already satisfied: sniffio in c:\\users\\smhrd\\anaconda3\\lib\\site-packages (from trio~=0.17->selenium) (1.2.0)\n",
      "Requirement already satisfied: pycparser in c:\\users\\smhrd\\anaconda3\\lib\\site-packages (from cffi>=1.14->trio~=0.17->selenium) (2.21)\n",
      "Collecting wsproto>=0.14\n",
      "  Downloading wsproto-1.1.0-py3-none-any.whl (24 kB)\n",
      "Requirement already satisfied: PySocks!=1.5.7,<2.0,>=1.5.6 in c:\\users\\smhrd\\anaconda3\\lib\\site-packages (from urllib3[socks]~=1.26->selenium) (1.7.1)\n",
      "Collecting h11<1,>=0.9.0\n",
      "  Downloading h11-0.13.0-py3-none-any.whl (58 kB)\n",
      "Installing collected packages: outcome, h11, async-generator, wsproto, trio, trio-websocket, selenium\n",
      "Successfully installed async-generator-1.10 h11-0.13.0 outcome-1.2.0 selenium-4.4.3 trio-0.21.0 trio-websocket-0.9.2 wsproto-1.1.0\n"
     ]
    }
   ],
   "source": [
    "!pip install selenium"
   ]
  },
  {
   "cell_type": "markdown",
   "id": "c01f5005",
   "metadata": {},
   "source": [
    "#### Selenium 모듈\n",
    "- 웹 브라우저를 자동으로 제어하기 위한 라이브러리\n",
    "- 브라우저 띄우는 것 부터 제어 -> requests가 필요가 없음\n",
    "- webdriver : 브라우저 역할(requests와 비슷)\n",
    "- keys: 컴퓨터에서 키보드 역할\n",
    "- By : 선택자를 선택하는 역할"
   ]
  },
  {
   "cell_type": "code",
   "execution_count": 4,
   "id": "6bd5ff00",
   "metadata": {},
   "outputs": [],
   "source": [
    "from selenium import webdriver as wb\n",
    "from selenium.webdriver.common.keys import Keys\n",
    "from selenium.webdriver.common.by import By\n",
    "import time\n",
    "import pandas as pd\n",
    "from bs4 import BeautifulSoup as bs"
   ]
  },
  {
   "cell_type": "code",
   "execution_count": 8,
   "id": "574b6e20",
   "metadata": {},
   "outputs": [],
   "source": [
    "#1. 크롬창 열기\n",
    "driver = wb.Chrome()"
   ]
  },
  {
   "cell_type": "code",
   "execution_count": 9,
   "id": "612ecb77",
   "metadata": {},
   "outputs": [],
   "source": [
    "#2. 네이버 들어가기\n",
    "driver.get(\"https://naver.com\")"
   ]
  },
  {
   "cell_type": "markdown",
   "id": "a117c033",
   "metadata": {},
   "source": [
    "#### find_element(By.ID, '아이디이름')"
   ]
  },
  {
   "cell_type": "code",
   "execution_count": 10,
   "id": "7cfb6e29",
   "metadata": {},
   "outputs": [],
   "source": [
    "#3. 검색바 찾기\n",
    "search = driver.find_element(By.ID,'query')"
   ]
  },
  {
   "cell_type": "code",
   "execution_count": 13,
   "id": "95ab2007",
   "metadata": {},
   "outputs": [],
   "source": [
    "#4. 광주날씨 입력\n",
    "search.send_keys('광주날씨')"
   ]
  },
  {
   "cell_type": "code",
   "execution_count": 14,
   "id": "31e77cd4",
   "metadata": {},
   "outputs": [],
   "source": [
    "#5. 검색하기(엔터눌리기)\n",
    "search.send_keys(Keys.ENTER)"
   ]
  },
  {
   "cell_type": "code",
   "execution_count": 15,
   "id": "a4164538",
   "metadata": {},
   "outputs": [],
   "source": [
    "#6. 뒤로가기\n",
    "driver.back()"
   ]
  },
  {
   "cell_type": "code",
   "execution_count": 16,
   "id": "13b4ed39",
   "metadata": {},
   "outputs": [],
   "source": [
    "#7. 드라이버(창) 종료\n",
    "driver.close()"
   ]
  },
  {
   "cell_type": "markdown",
   "id": "8abebd36",
   "metadata": {},
   "source": [
    "#### find_element()\n",
    "- By.ID: 아이디 선택자 이름\n",
    "- By.CLASS_NAME: 클래스 선택자 이름\n",
    "- By.CSS_SELECTOR:CSS선택자 이름\n",
    "- By.TAG_NAME: 태그를 이용해서 선택"
   ]
  },
  {
   "cell_type": "markdown",
   "id": "91797ad3",
   "metadata": {},
   "source": [
    "- 실습1\n",
    "- 네이버창에 코로나는 언제 끝나나요? 라는 키워드 입력하시고, 엔터키 누르고, 뒤로가기 창닫기\n"
   ]
  },
  {
   "cell_type": "code",
   "execution_count": 18,
   "id": "11130ca3",
   "metadata": {},
   "outputs": [],
   "source": [
    "driver = wb.Chrome()"
   ]
  },
  {
   "cell_type": "code",
   "execution_count": 19,
   "id": "702bc278",
   "metadata": {},
   "outputs": [],
   "source": [
    "driver.get(\"https://naver.com\")"
   ]
  },
  {
   "cell_type": "code",
   "execution_count": 20,
   "id": "dae103b0",
   "metadata": {},
   "outputs": [],
   "source": [
    "search = driver.find_element(By.ID, 'query')\n",
    "search.send_keys('코로나는 언제 끝나나요?')"
   ]
  },
  {
   "cell_type": "code",
   "execution_count": 21,
   "id": "e49765b8",
   "metadata": {},
   "outputs": [],
   "source": [
    "search.send_keys(Keys.ENTER)"
   ]
  },
  {
   "cell_type": "code",
   "execution_count": 22,
   "id": "eca7d9e8",
   "metadata": {},
   "outputs": [],
   "source": [
    "driver.back()"
   ]
  },
  {
   "cell_type": "code",
   "execution_count": 23,
   "id": "29d09b57",
   "metadata": {},
   "outputs": [],
   "source": [
    "driver.close()"
   ]
  },
  {
   "cell_type": "markdown",
   "id": "859a893b",
   "metadata": {},
   "source": [
    "#### 구글에서 크롤링 검색하여 결과를 페이지 띄우기"
   ]
  },
  {
   "cell_type": "code",
   "execution_count": 32,
   "id": "1c983277",
   "metadata": {},
   "outputs": [],
   "source": [
    "driver = wb.Chrome()\n",
    "driver.get(\"http://google.com\")\n",
    "input_tag = driver.find_element(By.CLASS_NAME,'gLFyf.gsfi')"
   ]
  },
  {
   "cell_type": "code",
   "execution_count": 33,
   "id": "87a76c19",
   "metadata": {},
   "outputs": [],
   "source": [
    "input_tag.send_keys('크롤링')\n",
    "input_tag.send_keys(Keys.ENTER)"
   ]
  },
  {
   "cell_type": "code",
   "execution_count": 39,
   "id": "331d0143",
   "metadata": {
    "collapsed": true
   },
   "outputs": [
    {
     "ename": "InvalidSessionIdException",
     "evalue": "Message: invalid session id\nStacktrace:\nBacktrace:\n\tOrdinal0 [0x005C78B3+2193587]\n\tOrdinal0 [0x00560681+1771137]\n\tOrdinal0 [0x00474070+802928]\n\tOrdinal0 [0x00497260+946784]\n\tOrdinal0 [0x004BD6A0+1103520]\n\tOrdinal0 [0x004BB4F5+1094901]\n\tOrdinal0 [0x004BB098+1093784]\n\tOrdinal0 [0x004555C7+677319]\n\tOrdinal0 [0x00455B43+678723]\n\tOrdinal0 [0x00455F7A+679802]\n\tGetHandleVerifier [0x00870CB2+2738370]\n\tGetHandleVerifier [0x008621B8+2678216]\n\tGetHandleVerifier [0x006517AA+512954]\n\tGetHandleVerifier [0x00650856+509030]\n\tOrdinal0 [0x0056743B+1799227]\n\tOrdinal0 [0x00455357+676695]\n\tOrdinal0 [0x00454E18+675352]\n\tGetHandleVerifier [0x008942BC+2883276]\n\tBaseThreadInitThunk [0x77B3FA29+25]\n\tRtlGetAppContainerNamedObjectPath [0x77C87A9E+286]\n\tRtlGetAppContainerNamedObjectPath [0x77C87A6E+238]\n",
     "output_type": "error",
     "traceback": [
      "\u001b[1;31m---------------------------------------------------------------------------\u001b[0m",
      "\u001b[1;31mInvalidSessionIdException\u001b[0m                 Traceback (most recent call last)",
      "Input \u001b[1;32mIn [39]\u001b[0m, in \u001b[0;36m<cell line: 1>\u001b[1;34m()\u001b[0m\n\u001b[1;32m----> 1\u001b[0m \u001b[43mdriver\u001b[49m\u001b[38;5;241;43m.\u001b[39;49m\u001b[43mclose\u001b[49m\u001b[43m(\u001b[49m\u001b[43m)\u001b[49m\n",
      "File \u001b[1;32m~\\anaconda3\\lib\\site-packages\\selenium\\webdriver\\remote\\webdriver.py:550\u001b[0m, in \u001b[0;36mWebDriver.close\u001b[1;34m(self)\u001b[0m\n\u001b[0;32m    541\u001b[0m \u001b[38;5;28;01mdef\u001b[39;00m \u001b[38;5;21mclose\u001b[39m(\u001b[38;5;28mself\u001b[39m) \u001b[38;5;241m-\u001b[39m\u001b[38;5;241m>\u001b[39m \u001b[38;5;28;01mNone\u001b[39;00m:\n\u001b[0;32m    542\u001b[0m     \u001b[38;5;124;03m\"\"\"\u001b[39;00m\n\u001b[0;32m    543\u001b[0m \u001b[38;5;124;03m    Closes the current window.\u001b[39;00m\n\u001b[0;32m    544\u001b[0m \n\u001b[1;32m   (...)\u001b[0m\n\u001b[0;32m    548\u001b[0m \u001b[38;5;124;03m            driver.close()\u001b[39;00m\n\u001b[0;32m    549\u001b[0m \u001b[38;5;124;03m    \"\"\"\u001b[39;00m\n\u001b[1;32m--> 550\u001b[0m     \u001b[38;5;28;43mself\u001b[39;49m\u001b[38;5;241;43m.\u001b[39;49m\u001b[43mexecute\u001b[49m\u001b[43m(\u001b[49m\u001b[43mCommand\u001b[49m\u001b[38;5;241;43m.\u001b[39;49m\u001b[43mCLOSE\u001b[49m\u001b[43m)\u001b[49m\n",
      "File \u001b[1;32m~\\anaconda3\\lib\\site-packages\\selenium\\webdriver\\remote\\webdriver.py:428\u001b[0m, in \u001b[0;36mWebDriver.execute\u001b[1;34m(self, driver_command, params)\u001b[0m\n\u001b[0;32m    426\u001b[0m response \u001b[38;5;241m=\u001b[39m \u001b[38;5;28mself\u001b[39m\u001b[38;5;241m.\u001b[39mcommand_executor\u001b[38;5;241m.\u001b[39mexecute(driver_command, params)\n\u001b[0;32m    427\u001b[0m \u001b[38;5;28;01mif\u001b[39;00m response:\n\u001b[1;32m--> 428\u001b[0m     \u001b[38;5;28;43mself\u001b[39;49m\u001b[38;5;241;43m.\u001b[39;49m\u001b[43merror_handler\u001b[49m\u001b[38;5;241;43m.\u001b[39;49m\u001b[43mcheck_response\u001b[49m\u001b[43m(\u001b[49m\u001b[43mresponse\u001b[49m\u001b[43m)\u001b[49m\n\u001b[0;32m    429\u001b[0m     response[\u001b[38;5;124m'\u001b[39m\u001b[38;5;124mvalue\u001b[39m\u001b[38;5;124m'\u001b[39m] \u001b[38;5;241m=\u001b[39m \u001b[38;5;28mself\u001b[39m\u001b[38;5;241m.\u001b[39m_unwrap_value(\n\u001b[0;32m    430\u001b[0m         response\u001b[38;5;241m.\u001b[39mget(\u001b[38;5;124m'\u001b[39m\u001b[38;5;124mvalue\u001b[39m\u001b[38;5;124m'\u001b[39m, \u001b[38;5;28;01mNone\u001b[39;00m))\n\u001b[0;32m    431\u001b[0m     \u001b[38;5;28;01mreturn\u001b[39;00m response\n",
      "File \u001b[1;32m~\\anaconda3\\lib\\site-packages\\selenium\\webdriver\\remote\\errorhandler.py:243\u001b[0m, in \u001b[0;36mErrorHandler.check_response\u001b[1;34m(self, response)\u001b[0m\n\u001b[0;32m    241\u001b[0m         alert_text \u001b[38;5;241m=\u001b[39m value[\u001b[38;5;124m'\u001b[39m\u001b[38;5;124malert\u001b[39m\u001b[38;5;124m'\u001b[39m]\u001b[38;5;241m.\u001b[39mget(\u001b[38;5;124m'\u001b[39m\u001b[38;5;124mtext\u001b[39m\u001b[38;5;124m'\u001b[39m)\n\u001b[0;32m    242\u001b[0m     \u001b[38;5;28;01mraise\u001b[39;00m exception_class(message, screen, stacktrace, alert_text)  \u001b[38;5;66;03m# type: ignore[call-arg]  # mypy is not smart enough here\u001b[39;00m\n\u001b[1;32m--> 243\u001b[0m \u001b[38;5;28;01mraise\u001b[39;00m exception_class(message, screen, stacktrace)\n",
      "\u001b[1;31mInvalidSessionIdException\u001b[0m: Message: invalid session id\nStacktrace:\nBacktrace:\n\tOrdinal0 [0x005C78B3+2193587]\n\tOrdinal0 [0x00560681+1771137]\n\tOrdinal0 [0x00474070+802928]\n\tOrdinal0 [0x00497260+946784]\n\tOrdinal0 [0x004BD6A0+1103520]\n\tOrdinal0 [0x004BB4F5+1094901]\n\tOrdinal0 [0x004BB098+1093784]\n\tOrdinal0 [0x004555C7+677319]\n\tOrdinal0 [0x00455B43+678723]\n\tOrdinal0 [0x00455F7A+679802]\n\tGetHandleVerifier [0x00870CB2+2738370]\n\tGetHandleVerifier [0x008621B8+2678216]\n\tGetHandleVerifier [0x006517AA+512954]\n\tGetHandleVerifier [0x00650856+509030]\n\tOrdinal0 [0x0056743B+1799227]\n\tOrdinal0 [0x00455357+676695]\n\tOrdinal0 [0x00454E18+675352]\n\tGetHandleVerifier [0x008942BC+2883276]\n\tBaseThreadInitThunk [0x77B3FA29+25]\n\tRtlGetAppContainerNamedObjectPath [0x77C87A9E+286]\n\tRtlGetAppContainerNamedObjectPath [0x77C87A6E+238]\n"
     ]
    }
   ],
   "source": [
    "driver.close()"
   ]
  },
  {
   "cell_type": "markdown",
   "id": "cf5b3bb1",
   "metadata": {},
   "source": [
    "#### 웹페이지 스크롤링\n",
    "- Keys.PAGE_DOWN 활용"
   ]
  },
  {
   "cell_type": "code",
   "execution_count": 50,
   "id": "3b2be70d",
   "metadata": {},
   "outputs": [],
   "source": [
    "url = \"https://www.google.co.kr/search?q=%EB%B9%85%EB%8D%B0%EC%9D%B4%ED%84%B0&source=hp&ei=ViMEY4nHDIKG-Aa2zqxw&iflsig=AJiK0e8AAAAAYwQxZps-0DE9MpbvEG5dALzryuS4rbZm&ved=0ahUKEwiJysih3tv5AhUCA94KHTYnCw4Q4dUDCAk&uact=5&oq=%EB%B9%85%EB%8D%B0%EC%9D%B4%ED%84%B0&gs_lcp=Cgdnd3Mtd2l6EAMyCwgAEIAEELEDEIMBMggIABCABBCxAzILCAAQgAQQsQMQgwEyBQgAEIAEMgUIABCABDIFCAAQgAQyBQgAEIAEMgUIABCABDIFCAAQgAQyBQgAEIAEOgsILhCABBDHARDRAzoNCC4QgAQQxwEQ0QMQCjoECAAQAzoUCC4QgAQQsQMQgwEQxwEQ0QMQ1AI6EQguEIAEELEDEIMBEMcBENEDOgUILhCABDoKCC4QxwEQ0QMQAzoKCC4QxwEQrwEQAzoLCC4QgAQQsQMQgwFQjwFYsA5g9A9oBXAAeAGAAWaIAfcHkgEDOS4ymAEAoAEBsAEA&sclient=gws-wiz\"\n",
    "driver = wb.Chrome()\n",
    "driver.get(url)"
   ]
  },
  {
   "cell_type": "code",
   "execution_count": 51,
   "id": "9d0bbbcf",
   "metadata": {},
   "outputs": [],
   "source": [
    "#웹페이지를 1번 스크롤링\n",
    "body = driver.find_element(By.TAG_NAME, 'body')\n",
    "body.send_keys(Keys.PAGE_DOWN)"
   ]
  },
  {
   "cell_type": "code",
   "execution_count": 48,
   "id": "8c108a13",
   "metadata": {},
   "outputs": [],
   "source": [
    "driver.close()"
   ]
  },
  {
   "cell_type": "code",
   "execution_count": 53,
   "id": "c03b7091",
   "metadata": {},
   "outputs": [],
   "source": [
    "#실습 빅데이터주소창을 세번 스크롤링 하기\n",
    "#웹페이지를 세번 스크롤링,time.sleep(1): 1초씩 멈춤\n",
    "url = \"https://www.google.co.kr/search?q=%EB%B9%85%EB%8D%B0%EC%9D%B4%ED%84%B0&source=hp&ei=ViMEY4nHDIKG-Aa2zqxw&iflsig=AJiK0e8AAAAAYwQxZps-0DE9MpbvEG5dALzryuS4rbZm&ved=0ahUKEwiJysih3tv5AhUCA94KHTYnCw4Q4dUDCAk&uact=5&oq=%EB%B9%85%EB%8D%B0%EC%9D%B4%ED%84%B0&gs_lcp=Cgdnd3Mtd2l6EAMyCwgAEIAEELEDEIMBMggIABCABBCxAzILCAAQgAQQsQMQgwEyBQgAEIAEMgUIABCABDIFCAAQgAQyBQgAEIAEMgUIABCABDIFCAAQgAQyBQgAEIAEOgsILhCABBDHARDRAzoNCC4QgAQQxwEQ0QMQCjoECAAQAzoUCC4QgAQQsQMQgwEQxwEQ0QMQ1AI6EQguEIAEELEDEIMBEMcBENEDOgUILhCABDoKCC4QxwEQ0QMQAzoKCC4QxwEQrwEQAzoLCC4QgAQQsQMQgwFQjwFYsA5g9A9oBXAAeAGAAWaIAfcHkgEDOS4ymAEAoAEBsAEA&sclient=gws-wiz\"\n",
    "driver = wb.Chrome()\n",
    "driver.get(url)\n",
    "for i in range(3):\n",
    "    body = driver.find_element(By.TAG_NAME, 'body')\n",
    "    body.send_keys(Keys.PAGE_DOWN)\n",
    "    time.sleep(1)"
   ]
  },
  {
   "cell_type": "markdown",
   "id": "0dbf4003",
   "metadata": {},
   "source": [
    "### 유튜브 정보 수집\n",
    "- 영상제목/영상주소/조회수"
   ]
  },
  {
   "cell_type": "code",
   "execution_count": 54,
   "id": "ea66ba09",
   "metadata": {},
   "outputs": [],
   "source": [
    "url_main = \"https://youtube.com\"\n",
    "url_sub = \"/results?search_query=\"\n",
    "query = '빅데이터'"
   ]
  },
  {
   "cell_type": "code",
   "execution_count": 60,
   "id": "8e67d87b",
   "metadata": {},
   "outputs": [],
   "source": [
    "driver = wb.Chrome()\n",
    "driver.get(url_main + url_sub + query)"
   ]
  },
  {
   "cell_type": "code",
   "execution_count": 57,
   "id": "5fe2a5de",
   "metadata": {},
   "outputs": [],
   "source": [
    "#현재 페이지에서 5번 스크롤링, 한번 스크롤링 할때 1초씩 쉬기\n",
    "for i in range(5):\n",
    "    body = driver.find_element(By.TAG_NAME, 'body')\n",
    "    body.send_keys(Keys.PAGE_DOWN)\n",
    "    time.sleep(1)"
   ]
  },
  {
   "cell_type": "code",
   "execution_count": 58,
   "id": "aac472a2",
   "metadata": {},
   "outputs": [],
   "source": [
    "soup = bs(driver.page_source, 'lxml')"
   ]
  },
  {
   "cell_type": "code",
   "execution_count": 95,
   "id": "cc5de4f5",
   "metadata": {},
   "outputs": [
    {
     "data": {
      "text/plain": [
       "27"
      ]
     },
     "execution_count": 95,
     "metadata": {},
     "output_type": "execute_result"
    }
   ],
   "source": [
    "#영상제목/영상주소/조회수\n",
    "title=soup.find_all('a',id='video-title')\n",
    "len(title)"
   ]
  },
  {
   "cell_type": "code",
   "execution_count": 62,
   "id": "23e80254",
   "metadata": {},
   "outputs": [
    {
     "data": {
      "text/plain": [
       "'\\n\\n빅 데이터 3분 요약\\n'"
      ]
     },
     "execution_count": 62,
     "metadata": {},
     "output_type": "execute_result"
    }
   ],
   "source": [
    "title[0].text"
   ]
  },
  {
   "cell_type": "code",
   "execution_count": 96,
   "id": "e37b4dc2",
   "metadata": {
    "collapsed": true
   },
   "outputs": [
    {
     "name": "stdout",
     "output_type": "stream",
     "text": [
      "영상제목: 빅 데이터 3분 요약\n",
      "영상주소: https://youtube.com/watch?v=l2RBzee3Ag4\n",
      "----------------------------------------------------------------------\n",
      "영상제목: 빅데이터란? (What is Big Data?)\n",
      "영상주소: https://youtube.com/watch?v=6MrCdXBlmqM\n",
      "----------------------------------------------------------------------\n",
      "영상제목: 변화를 빠르게 파악해야 살아남는다❗ 빅데이터 전문가가 꼽은 미래를 이끌 키워드는?｜차이나는 클라스｜JTBC 220724 방송\n",
      "영상주소: https://youtube.com/watch?v=EdCwsSg8vlw\n",
      "----------------------------------------------------------------------\n",
      "영상제목: [이슈 픽! 쌤과 함께] 빅데이터 전문가 송길영이 말하는 '빅데이터란 무엇인가?' KBS 29291118 방송\n",
      "영상주소: https://youtube.com/watch?v=2A8NelGuWgI\n",
      "----------------------------------------------------------------------\n",
      "영상제목: 빅데이터는 이것만 기억하면 된다!｜서가명강 - 빅데이터로 성공하기 1강(서울대 산업공학과 조성준 교수) ｜(ENG sub) What is Big Data?\n",
      "영상주소: https://youtube.com/watch?v=PBaUjMgRIx0\n",
      "----------------------------------------------------------------------\n",
      "영상제목: 미래 유망 직종, 빅데이터 분석기사에 도전해야 하는 이유\n",
      "영상주소: https://youtube.com/watch?v=NiuYy2135Vs\n",
      "----------------------------------------------------------------------\n",
      "영상제목: 10분으로 알아보는 빅데이터 기술 & 사례들! | 십분AI 마지막 강의\n",
      "영상주소: https://youtube.com/watch?v=Jd_fK-6dfcI\n",
      "----------------------------------------------------------------------\n",
      "영상제목: 단순히 큰(BIG) 데이터가 아닌 빅데이터! Data Technology에 대해 알아보겠습니다.\n",
      "영상주소: https://youtube.com/watch?v=DQFj41o_Bhs\n",
      "----------------------------------------------------------------------\n",
      "영상제목: [빅데이터를 아는자, 기회를 잡는다!] 4차 산업혁명의 핵심기술, 빅데이터의 정의\n",
      "영상주소: https://youtube.com/watch?v=ykUmrnuyYYo\n",
      "----------------------------------------------------------------------\n",
      "영상제목: [8분 명강] 세상을 읽는 새로운 언어, 빅데이터 - 서울대 산업공학과 조성준 교수\n",
      "영상주소: https://youtube.com/watch?v=ENP0cDULbSs\n",
      "----------------------------------------------------------------------\n",
      "영상제목: 빅데이터의 배신 | 나는 오늘 알고리즘에게 해고당했다\n",
      "영상주소: https://youtube.com/watch?v=SS-7Q_SRU2s\n",
      "----------------------------------------------------------------------\n",
      "영상제목: 실생활에 밀접하게 다가온 빅데이터 기술 / YTN 사이언스\n",
      "영상주소: https://youtube.com/watch?v=r_7w1bzYeSo\n",
      "----------------------------------------------------------------------\n",
      "영상제목: 미래의 석유?! 4차 산업혁명의 핵심 기술, 빅데이터\n",
      "영상주소: https://youtube.com/watch?v=00fUsFLRW54\n",
      "----------------------------------------------------------------------\n",
      "영상제목: 빅데이터가 말하는 꿈과 공부의 미래 | 최재원 다음소프트 이사 | 인생 강연 강의 듣기 | 세바시 817회\n",
      "영상주소: https://youtube.com/watch?v=DAAmaDWRmkY\n",
      "----------------------------------------------------------------------\n",
      "영상제목: (8월23일)[황금연못의 바이셀TV] 주간 2부 | 김과장 항셍매매\n",
      "영상주소: https://youtube.com/watch?v=QvCxWHaDBP0\n",
      "----------------------------------------------------------------------\n",
      "영상제목: 코인 시장도 스태그 플레이션.ㅣ똑똑한 소비자는 리플을 얻는다.ㅣ\n",
      "영상주소: https://youtube.com/watch?v=aCs5vM9sHzA\n",
      "----------------------------------------------------------------------\n",
      "영상제목: 시청자들한테 야생서버를 열어주면 생기는 일 ㄷㄷ\n",
      "영상주소: https://youtube.com/watch?v=Eqa7pTDtnfY\n",
      "----------------------------------------------------------------------\n",
      "영상제목: 【groovy ep.1】 전세계 모든 \"빅베이트\"를 하나로 이제 그루비만 있으면 다 됩니다.  [강호형 THIS IS BASS FISHING] #16\n",
      "영상주소: https://youtube.com/watch?v=PRBfJhpv2_I\n",
      "----------------------------------------------------------------------\n",
      "영상제목: 빅데이터 처리 기술 개요\n",
      "영상주소: https://youtube.com/watch?v=GMteLVS6lME\n",
      "----------------------------------------------------------------------\n",
      "영상제목: 인공지능과 빅데이터 / YTN 사이언스\n",
      "영상주소: https://youtube.com/watch?v=TMjRAkVAWM0\n",
      "----------------------------------------------------------------------\n",
      "영상제목: 세상을 읽는 새로운 언어, 빅데이터 - 조성준 교수│[사색의 공동체, 스미다]\n",
      "영상주소: https://youtube.com/watch?v=sNmi-LMhwHs\n",
      "----------------------------------------------------------------------\n",
      "영상제목: 빅데이터 취업준비 이렇게 하시면 됩니다 | 프로그래밍 언어, 책 추천\n",
      "영상주소: https://youtube.com/watch?v=7wQvqD89hCU\n",
      "----------------------------------------------------------------------\n",
      "영상제목: 빅데이터\n",
      "영상주소: https://youtube.com/watch?v=vyRC1bUAwFE\n",
      "----------------------------------------------------------------------\n",
      "영상제목: 배워서 바로 써먹는 📇빅데이터 분석 실전📇\n",
      "영상주소: https://youtube.com/watch?v=biaF1ExDbCw\n",
      "----------------------------------------------------------------------\n",
      "영상제목: 대왕 요구르트 등장…빅데이터가 만든 대박상품 / SBS\n",
      "영상주소: https://youtube.com/watch?v=Spp39BgpsNk\n",
      "----------------------------------------------------------------------\n",
      "영상제목: 💎빅데이터 세상, 연봉 바꾸는 법! 돈벌이 되는 데이터 미래직업 총정리! - 조성준 교수 '빅데이터 커리어 가이드북' 김미경의 북토크\n",
      "영상주소: https://youtube.com/watch?v=pErU1Hit_2g\n",
      "----------------------------------------------------------------------\n",
      "영상제목: 야구⚾️부터 미국 대선🇺🇸까지! 세상을 예측하는 [빅데이터] 차이나는 클라스(jtbclecture) 231회 | JTBC 220227 방송\n",
      "영상주소: https://youtube.com/watch?v=By65h9-Z78U\n",
      "----------------------------------------------------------------------\n"
     ]
    }
   ],
   "source": [
    "nums = []\n",
    "titles = []\n",
    "video_urls = []\n",
    "for i in range(len(title)):\n",
    "    title = soup.find_all('a',id='video-title')[i].text.strip()\n",
    "    video_url = soup.find_all('a',id='video-title')[i]['href']\n",
    "    titles.append(title)\n",
    "    video_urls.append(url_main + video_url)\n",
    "    nums.append(i+1)\n",
    "    print(\"영상제목: \"+title)\n",
    "    print('영상주소: '+url_main + video_url)\n",
    "    print('-'*70)\n",
    "    "
   ]
  },
  {
   "cell_type": "code",
   "execution_count": 97,
   "id": "394fbc63",
   "metadata": {},
   "outputs": [
    {
     "data": {
      "text/plain": [
       "(77, 27)"
      ]
     },
     "execution_count": 97,
     "metadata": {},
     "output_type": "execute_result"
    }
   ],
   "source": [
    "len(title), len(video_urls)"
   ]
  },
  {
   "cell_type": "code",
   "execution_count": 98,
   "id": "94e7b46f",
   "metadata": {
    "collapsed": true
   },
   "outputs": [
    {
     "data": {
      "text/html": [
       "<div>\n",
       "<style scoped>\n",
       "    .dataframe tbody tr th:only-of-type {\n",
       "        vertical-align: middle;\n",
       "    }\n",
       "\n",
       "    .dataframe tbody tr th {\n",
       "        vertical-align: top;\n",
       "    }\n",
       "\n",
       "    .dataframe thead th {\n",
       "        text-align: right;\n",
       "    }\n",
       "</style>\n",
       "<table border=\"1\" class=\"dataframe\">\n",
       "  <thead>\n",
       "    <tr style=\"text-align: right;\">\n",
       "      <th></th>\n",
       "      <th>영상제목</th>\n",
       "      <th>영상주소</th>\n",
       "    </tr>\n",
       "    <tr>\n",
       "      <th>넘버</th>\n",
       "      <th></th>\n",
       "      <th></th>\n",
       "    </tr>\n",
       "  </thead>\n",
       "  <tbody>\n",
       "    <tr>\n",
       "      <th>1</th>\n",
       "      <td>빅 데이터 3분 요약</td>\n",
       "      <td>https://youtube.com/watch?v=l2RBzee3Ag4</td>\n",
       "    </tr>\n",
       "    <tr>\n",
       "      <th>2</th>\n",
       "      <td>빅데이터란? (What is Big Data?)</td>\n",
       "      <td>https://youtube.com/watch?v=6MrCdXBlmqM</td>\n",
       "    </tr>\n",
       "    <tr>\n",
       "      <th>3</th>\n",
       "      <td>변화를 빠르게 파악해야 살아남는다❗ 빅데이터 전문가가 꼽은 미래를 이끌 키워드는?｜...</td>\n",
       "      <td>https://youtube.com/watch?v=EdCwsSg8vlw</td>\n",
       "    </tr>\n",
       "    <tr>\n",
       "      <th>4</th>\n",
       "      <td>[이슈 픽! 쌤과 함께] 빅데이터 전문가 송길영이 말하는 '빅데이터란 무엇인가?' ...</td>\n",
       "      <td>https://youtube.com/watch?v=2A8NelGuWgI</td>\n",
       "    </tr>\n",
       "    <tr>\n",
       "      <th>5</th>\n",
       "      <td>빅데이터는 이것만 기억하면 된다!｜서가명강 - 빅데이터로 성공하기 1강(서울대 산업...</td>\n",
       "      <td>https://youtube.com/watch?v=PBaUjMgRIx0</td>\n",
       "    </tr>\n",
       "    <tr>\n",
       "      <th>6</th>\n",
       "      <td>미래 유망 직종, 빅데이터 분석기사에 도전해야 하는 이유</td>\n",
       "      <td>https://youtube.com/watch?v=NiuYy2135Vs</td>\n",
       "    </tr>\n",
       "    <tr>\n",
       "      <th>7</th>\n",
       "      <td>10분으로 알아보는 빅데이터 기술 &amp; 사례들! | 십분AI 마지막 강의</td>\n",
       "      <td>https://youtube.com/watch?v=Jd_fK-6dfcI</td>\n",
       "    </tr>\n",
       "    <tr>\n",
       "      <th>8</th>\n",
       "      <td>단순히 큰(BIG) 데이터가 아닌 빅데이터! Data Technology에 대해 알...</td>\n",
       "      <td>https://youtube.com/watch?v=DQFj41o_Bhs</td>\n",
       "    </tr>\n",
       "    <tr>\n",
       "      <th>9</th>\n",
       "      <td>[빅데이터를 아는자, 기회를 잡는다!] 4차 산업혁명의 핵심기술, 빅데이터의 정의</td>\n",
       "      <td>https://youtube.com/watch?v=ykUmrnuyYYo</td>\n",
       "    </tr>\n",
       "    <tr>\n",
       "      <th>10</th>\n",
       "      <td>[8분 명강] 세상을 읽는 새로운 언어, 빅데이터 - 서울대 산업공학과 조성준 교수</td>\n",
       "      <td>https://youtube.com/watch?v=ENP0cDULbSs</td>\n",
       "    </tr>\n",
       "    <tr>\n",
       "      <th>11</th>\n",
       "      <td>빅데이터의 배신 | 나는 오늘 알고리즘에게 해고당했다</td>\n",
       "      <td>https://youtube.com/watch?v=SS-7Q_SRU2s</td>\n",
       "    </tr>\n",
       "    <tr>\n",
       "      <th>12</th>\n",
       "      <td>실생활에 밀접하게 다가온 빅데이터 기술 / YTN 사이언스</td>\n",
       "      <td>https://youtube.com/watch?v=r_7w1bzYeSo</td>\n",
       "    </tr>\n",
       "    <tr>\n",
       "      <th>13</th>\n",
       "      <td>미래의 석유?! 4차 산업혁명의 핵심 기술, 빅데이터</td>\n",
       "      <td>https://youtube.com/watch?v=00fUsFLRW54</td>\n",
       "    </tr>\n",
       "    <tr>\n",
       "      <th>14</th>\n",
       "      <td>빅데이터가 말하는 꿈과 공부의 미래 | 최재원 다음소프트 이사 | 인생 강연 강의 ...</td>\n",
       "      <td>https://youtube.com/watch?v=DAAmaDWRmkY</td>\n",
       "    </tr>\n",
       "    <tr>\n",
       "      <th>15</th>\n",
       "      <td>(8월23일)[황금연못의 바이셀TV] 주간 2부 | 김과장 항셍매매</td>\n",
       "      <td>https://youtube.com/watch?v=QvCxWHaDBP0</td>\n",
       "    </tr>\n",
       "    <tr>\n",
       "      <th>16</th>\n",
       "      <td>코인 시장도 스태그 플레이션.ㅣ똑똑한 소비자는 리플을 얻는다.ㅣ</td>\n",
       "      <td>https://youtube.com/watch?v=aCs5vM9sHzA</td>\n",
       "    </tr>\n",
       "    <tr>\n",
       "      <th>17</th>\n",
       "      <td>시청자들한테 야생서버를 열어주면 생기는 일 ㄷㄷ</td>\n",
       "      <td>https://youtube.com/watch?v=Eqa7pTDtnfY</td>\n",
       "    </tr>\n",
       "    <tr>\n",
       "      <th>18</th>\n",
       "      <td>【groovy ep.1】 전세계 모든 \"빅베이트\"를 하나로 이제 그루비만 있으면 다...</td>\n",
       "      <td>https://youtube.com/watch?v=PRBfJhpv2_I</td>\n",
       "    </tr>\n",
       "    <tr>\n",
       "      <th>19</th>\n",
       "      <td>빅데이터 처리 기술 개요</td>\n",
       "      <td>https://youtube.com/watch?v=GMteLVS6lME</td>\n",
       "    </tr>\n",
       "    <tr>\n",
       "      <th>20</th>\n",
       "      <td>인공지능과 빅데이터 / YTN 사이언스</td>\n",
       "      <td>https://youtube.com/watch?v=TMjRAkVAWM0</td>\n",
       "    </tr>\n",
       "    <tr>\n",
       "      <th>21</th>\n",
       "      <td>세상을 읽는 새로운 언어, 빅데이터 - 조성준 교수│[사색의 공동체, 스미다]</td>\n",
       "      <td>https://youtube.com/watch?v=sNmi-LMhwHs</td>\n",
       "    </tr>\n",
       "    <tr>\n",
       "      <th>22</th>\n",
       "      <td>빅데이터 취업준비 이렇게 하시면 됩니다 | 프로그래밍 언어, 책 추천</td>\n",
       "      <td>https://youtube.com/watch?v=7wQvqD89hCU</td>\n",
       "    </tr>\n",
       "    <tr>\n",
       "      <th>23</th>\n",
       "      <td>빅데이터</td>\n",
       "      <td>https://youtube.com/watch?v=vyRC1bUAwFE</td>\n",
       "    </tr>\n",
       "    <tr>\n",
       "      <th>24</th>\n",
       "      <td>배워서 바로 써먹는 📇빅데이터 분석 실전📇</td>\n",
       "      <td>https://youtube.com/watch?v=biaF1ExDbCw</td>\n",
       "    </tr>\n",
       "    <tr>\n",
       "      <th>25</th>\n",
       "      <td>대왕 요구르트 등장…빅데이터가 만든 대박상품 / SBS</td>\n",
       "      <td>https://youtube.com/watch?v=Spp39BgpsNk</td>\n",
       "    </tr>\n",
       "    <tr>\n",
       "      <th>26</th>\n",
       "      <td>💎빅데이터 세상, 연봉 바꾸는 법! 돈벌이 되는 데이터 미래직업 총정리! - 조성준...</td>\n",
       "      <td>https://youtube.com/watch?v=pErU1Hit_2g</td>\n",
       "    </tr>\n",
       "    <tr>\n",
       "      <th>27</th>\n",
       "      <td>야구⚾️부터 미국 대선🇺🇸까지! 세상을 예측하는 [빅데이터] 차이나는 클라스(jtb...</td>\n",
       "      <td>https://youtube.com/watch?v=By65h9-Z78U</td>\n",
       "    </tr>\n",
       "  </tbody>\n",
       "</table>\n",
       "</div>"
      ],
      "text/plain": [
       "                                                 영상제목  \\\n",
       "넘버                                                      \n",
       "1                                         빅 데이터 3분 요약   \n",
       "2                          빅데이터란? (What is Big Data?)   \n",
       "3   변화를 빠르게 파악해야 살아남는다❗ 빅데이터 전문가가 꼽은 미래를 이끌 키워드는?｜...   \n",
       "4   [이슈 픽! 쌤과 함께] 빅데이터 전문가 송길영이 말하는 '빅데이터란 무엇인가?' ...   \n",
       "5   빅데이터는 이것만 기억하면 된다!｜서가명강 - 빅데이터로 성공하기 1강(서울대 산업...   \n",
       "6                     미래 유망 직종, 빅데이터 분석기사에 도전해야 하는 이유   \n",
       "7             10분으로 알아보는 빅데이터 기술 & 사례들! | 십분AI 마지막 강의   \n",
       "8   단순히 큰(BIG) 데이터가 아닌 빅데이터! Data Technology에 대해 알...   \n",
       "9       [빅데이터를 아는자, 기회를 잡는다!] 4차 산업혁명의 핵심기술, 빅데이터의 정의   \n",
       "10     [8분 명강] 세상을 읽는 새로운 언어, 빅데이터 - 서울대 산업공학과 조성준 교수   \n",
       "11                      빅데이터의 배신 | 나는 오늘 알고리즘에게 해고당했다   \n",
       "12                   실생활에 밀접하게 다가온 빅데이터 기술 / YTN 사이언스   \n",
       "13                      미래의 석유?! 4차 산업혁명의 핵심 기술, 빅데이터   \n",
       "14  빅데이터가 말하는 꿈과 공부의 미래 | 최재원 다음소프트 이사 | 인생 강연 강의 ...   \n",
       "15              (8월23일)[황금연못의 바이셀TV] 주간 2부 | 김과장 항셍매매   \n",
       "16                코인 시장도 스태그 플레이션.ㅣ똑똑한 소비자는 리플을 얻는다.ㅣ   \n",
       "17                         시청자들한테 야생서버를 열어주면 생기는 일 ㄷㄷ   \n",
       "18  【groovy ep.1】 전세계 모든 \"빅베이트\"를 하나로 이제 그루비만 있으면 다...   \n",
       "19                                      빅데이터 처리 기술 개요   \n",
       "20                              인공지능과 빅데이터 / YTN 사이언스   \n",
       "21        세상을 읽는 새로운 언어, 빅데이터 - 조성준 교수│[사색의 공동체, 스미다]   \n",
       "22             빅데이터 취업준비 이렇게 하시면 됩니다 | 프로그래밍 언어, 책 추천   \n",
       "23                                               빅데이터   \n",
       "24                            배워서 바로 써먹는 📇빅데이터 분석 실전📇   \n",
       "25                     대왕 요구르트 등장…빅데이터가 만든 대박상품 / SBS   \n",
       "26  💎빅데이터 세상, 연봉 바꾸는 법! 돈벌이 되는 데이터 미래직업 총정리! - 조성준...   \n",
       "27  야구⚾️부터 미국 대선🇺🇸까지! 세상을 예측하는 [빅데이터] 차이나는 클라스(jtb...   \n",
       "\n",
       "                                       영상주소  \n",
       "넘버                                           \n",
       "1   https://youtube.com/watch?v=l2RBzee3Ag4  \n",
       "2   https://youtube.com/watch?v=6MrCdXBlmqM  \n",
       "3   https://youtube.com/watch?v=EdCwsSg8vlw  \n",
       "4   https://youtube.com/watch?v=2A8NelGuWgI  \n",
       "5   https://youtube.com/watch?v=PBaUjMgRIx0  \n",
       "6   https://youtube.com/watch?v=NiuYy2135Vs  \n",
       "7   https://youtube.com/watch?v=Jd_fK-6dfcI  \n",
       "8   https://youtube.com/watch?v=DQFj41o_Bhs  \n",
       "9   https://youtube.com/watch?v=ykUmrnuyYYo  \n",
       "10  https://youtube.com/watch?v=ENP0cDULbSs  \n",
       "11  https://youtube.com/watch?v=SS-7Q_SRU2s  \n",
       "12  https://youtube.com/watch?v=r_7w1bzYeSo  \n",
       "13  https://youtube.com/watch?v=00fUsFLRW54  \n",
       "14  https://youtube.com/watch?v=DAAmaDWRmkY  \n",
       "15  https://youtube.com/watch?v=QvCxWHaDBP0  \n",
       "16  https://youtube.com/watch?v=aCs5vM9sHzA  \n",
       "17  https://youtube.com/watch?v=Eqa7pTDtnfY  \n",
       "18  https://youtube.com/watch?v=PRBfJhpv2_I  \n",
       "19  https://youtube.com/watch?v=GMteLVS6lME  \n",
       "20  https://youtube.com/watch?v=TMjRAkVAWM0  \n",
       "21  https://youtube.com/watch?v=sNmi-LMhwHs  \n",
       "22  https://youtube.com/watch?v=7wQvqD89hCU  \n",
       "23  https://youtube.com/watch?v=vyRC1bUAwFE  \n",
       "24  https://youtube.com/watch?v=biaF1ExDbCw  \n",
       "25  https://youtube.com/watch?v=Spp39BgpsNk  \n",
       "26  https://youtube.com/watch?v=pErU1Hit_2g  \n",
       "27  https://youtube.com/watch?v=By65h9-Z78U  "
      ]
     },
     "execution_count": 98,
     "metadata": {},
     "output_type": "execute_result"
    }
   ],
   "source": [
    "\n",
    "youtube = pd.DataFrame({'넘버':nums,'영상제목':titles, '영상주소':video_urls})\n",
    "youtube.set_index('넘버',inplace=True)\n",
    "youtube"
   ]
  },
  {
   "cell_type": "code",
   "execution_count": 99,
   "id": "06f84be0",
   "metadata": {},
   "outputs": [],
   "source": [
    "youtube.to_csv('youtube.csv',encoding='utf-8')"
   ]
  },
  {
   "cell_type": "markdown",
   "id": "c43270fb",
   "metadata": {},
   "source": [
    "#### 실습)네이버 뉴스 제목, 내용가져오기"
   ]
  },
  {
   "cell_type": "code",
   "execution_count": 103,
   "id": "f1c47718",
   "metadata": {},
   "outputs": [],
   "source": [
    "url = \"https://n.news.naver.com/mnews/article/138/0002131226?sid=105\"\n",
    "driver = wb.Chrome()\n",
    "driver.get(url)"
   ]
  },
  {
   "cell_type": "code",
   "execution_count": 104,
   "id": "47450c2a",
   "metadata": {},
   "outputs": [],
   "source": [
    "soup = bs(driver.page_source, 'lxml')"
   ]
  },
  {
   "cell_type": "code",
   "execution_count": 128,
   "id": "57a3daf5",
   "metadata": {},
   "outputs": [],
   "source": [
    "title = soup.find('h2','media_end_head_headline').text\n",
    "content = soup.find('div',id='dic_area').text.strip().replace(\"\\n\",\"\")"
   ]
  },
  {
   "cell_type": "code",
   "execution_count": 130,
   "id": "63a9b577",
   "metadata": {},
   "outputs": [
    {
     "name": "stdout",
     "output_type": "stream",
     "text": [
      "제목:  쏘카, 이미지로 차량파손 인식하는 AI소개…이용자 안전강화\n",
      "내용 :  [디지털데일리 오병훈 기자] 쏘카가 이미지를 통해 차량파손을 인식하는 AI 기술을 소개했다.    쏘카(대표 박재욱)는 KDD(Knowledge Discovery and Data) 주최 워크샵 ‘DLP-KDD 2022’에서 차량 오염·파손 탐지 인공지능(AI)을 소개했다고 23일 밝혔다. KDD는 데이터추출 및 인공지능 분야 학회다.   쏘카AI팀은 카셰어링 서비스에서 수집된 차량 이미지로 차량 파손 및 오염을 방지하는 기술을 소개하고, 이를 서비스로 배포·운영한 사례를 발표했다.   쏘카AI팀은 이번 연구를 통해 일반적으로 사용되는 ‘이미지인식(Image Recognition)’ 기술 비효율성을 개선할 수 있는 ‘효율성 중심 머신러닝(Efficiency-centric ML)’ 패러다임을  제시했다.   대용량 지도 학습 기반 기존 이미지인식 모델은 높은 성능을 보장한다. 다만,  인식해야하는 모델 개수가 많아 실무자가 관리해야하는 아티팩트(인공관상물)가 증가하게 된다. 이로 인해 머신러닝 엔지니어링 부하를 발생시킨다는 단점이 존재한다.   쏘카AI팀은 이를 해결하기 위해 실무 영역인 ▲데이터셋 ▲모델 분류기 ▲이상 데이터 탐지▲예측 테이블 등을 단일 머신러닝 파이프라인으로 연결하는 시스템을 개발했다. 파이라인은  머신러닝 전체 과정을 순차적으로 처리하는 일련의 프로세스다. 이를 적용해 차량 오염과 파손을 탐지한 결과, 기존 이미지 인식 모델들보다 최소 2%, 최대 7% 더 높은 정확도를 나타냈다.  DLP-KDD 워크샵에서는 고차원 데이터를 AI에 효율적으로 학습시키는 딥러닝 사례를 주로 다룬다. 이번 워크샵에는 알리바바, 텐센트, 아마존 알렉사, 메타, 네이버 등 글로벌 빅테크 기업 발표도 포함됐다.   박경호 쏘카 AI팀장은 “대규모 플릿을 직접 운영하고 있는 쏘카가 직접 배포하고 적용한 연구 사례인 만큼 학회에서도 많은 관심을 받았고, 유수 연구자들과 토론할 수 있는 좋은 기회였다”며 “해당 연구를 기반으로 모빌리티 서비스에 AI를 접목하고, 운영 효율화를 이뤄내 이용자에게 편안하고 안전한 이동 경험을 제공하겠다”고 말했다.\n"
     ]
    }
   ],
   "source": [
    "print(\"제목: \",title)\n",
    "print(\"내용 : \",content)"
   ]
  },
  {
   "cell_type": "markdown",
   "id": "f54f6a6e",
   "metadata": {},
   "source": [
    "#### 실습) 네이버책에서 저자하고 책제목가져오기"
   ]
  },
  {
   "cell_type": "code",
   "execution_count": 133,
   "id": "c5b79f83",
   "metadata": {},
   "outputs": [],
   "source": [
    "url = \"https://book.naver.com/\"\n",
    "driver = wb.Chrome()\n",
    "driver.get(url)\n",
    "soup = bs(driver.page_source, 'lxml')"
   ]
  },
  {
   "cell_type": "code",
   "execution_count": 183,
   "id": "a8d165fd",
   "metadata": {},
   "outputs": [
    {
     "name": "stdout",
     "output_type": "stream",
     "text": [
      "제목 불편한 편의점\n",
      "저자 김호연\n",
      "--------------------------------------------------\n",
      "제목 어서 오세요, 휴남동 서점입니다\n",
      "저자 황보름\n",
      "--------------------------------------------------\n",
      "제목 작별인사\n",
      "저자 김영하\n",
      "--------------------------------------------------\n",
      "제목 파친코 1\n",
      "저자 이민진\n",
      "--------------------------------------------------\n",
      "제목 세상의 마지막 기차역\n",
      "저자 무라세 다케시\n",
      "--------------------------------------------------\n",
      "제목 어느 날, 내 죽음에네가 들어왔다\n",
      "저자 세이카 료겐\n",
      "--------------------------------------------------\n",
      "제목 오늘 밤, 세계에서 이사랑이 사라진..\n",
      "저자 이치조 미사키\n",
      "--------------------------------------------------\n",
      "제목 아몬드\n",
      "저자 손원평\n",
      "--------------------------------------------------\n",
      "제목 달러구트 꿈 백화점\n",
      "저자 이미예\n",
      "--------------------------------------------------\n",
      "제목 믿음에 대하여\n",
      "저자 박상영\n",
      "--------------------------------------------------\n"
     ]
    }
   ],
   "source": [
    "titles = soup.select('.rank_view+dl > dt+dt')\n",
    "authors = soup.select('.rank_view+dl > dd')\n",
    "for i in range(len(titles)):\n",
    "    print('제목',titles[i].text)\n",
    "    print('저자',authors[i].text)\n",
    "    print('-'*50)"
   ]
  },
  {
   "cell_type": "markdown",
   "id": "e917e599",
   "metadata": {},
   "source": [
    "#### Gmarket 베스트셀러 가격정보와 상품정보"
   ]
  },
  {
   "cell_type": "code",
   "execution_count": 187,
   "id": "0b421edb",
   "metadata": {},
   "outputs": [],
   "source": [
    "driver = wb.Chrome()\n",
    "driver.get(\"http://corners.gmarket.co.kr/Bestsellers\")"
   ]
  },
  {
   "cell_type": "code",
   "execution_count": 188,
   "id": "68bf3b66",
   "metadata": {},
   "outputs": [],
   "source": [
    "imgs = driver.find_elements(By.CLASS_NAME,'lazy')"
   ]
  },
  {
   "cell_type": "code",
   "execution_count": 189,
   "id": "bc3a7236",
   "metadata": {},
   "outputs": [
    {
     "data": {
      "text/plain": [
       "<selenium.webdriver.remote.webelement.WebElement (session=\"78e4e1d1983d221a51e1e90ab4aec5c4\", element=\"8742c748-0dbf-4dc3-853b-b3bfcbc2d002\")>"
      ]
     },
     "execution_count": 189,
     "metadata": {},
     "output_type": "execute_result"
    }
   ],
   "source": [
    "imgs[0]"
   ]
  },
  {
   "cell_type": "code",
   "execution_count": 190,
   "id": "c600deae",
   "metadata": {},
   "outputs": [],
   "source": [
    "imgs[0].click()"
   ]
  },
  {
   "cell_type": "code",
   "execution_count": 191,
   "id": "f6182ab5",
   "metadata": {},
   "outputs": [
    {
     "data": {
      "text/plain": [
       "'최상급 통통 활 왕새우 1kg 34-38미 / 14940원 (빅세일20%+수산대전20% 중복 쿠폰가) / 국내산 (충남 태안)'"
      ]
     },
     "execution_count": 191,
     "metadata": {},
     "output_type": "execute_result"
    }
   ],
   "source": [
    "title = driver.find_element(By.CLASS_NAME,'itemtit')\n",
    "title.text"
   ]
  },
  {
   "cell_type": "code",
   "execution_count": 192,
   "id": "8534d606",
   "metadata": {},
   "outputs": [
    {
     "data": {
      "text/plain": [
       "'24,900원'"
      ]
     },
     "execution_count": 192,
     "metadata": {},
     "output_type": "execute_result"
    }
   ],
   "source": [
    "#가격\n",
    "price = driver.find_element(By.CLASS_NAME,'price_real')\n",
    "price.text"
   ]
  },
  {
   "cell_type": "code",
   "execution_count": null,
   "id": "049d3d67",
   "metadata": {},
   "outputs": [],
   "source": [
    "driver.back()"
   ]
  },
  {
   "cell_type": "code",
   "execution_count": 202,
   "id": "0f7d7585",
   "metadata": {},
   "outputs": [
    {
     "name": "stdout",
     "output_type": "stream",
     "text": [
      "상품명: 최상급 통통 활 왕새우 1kg 34-38미 / 14940원 (빅세일20%+수산대전20% 중복 쿠폰가) / 국내산 (충남 태안)\n",
      "가격: 24,900원\n",
      "상품명: 비비고 사골곰탕 500g 18개\n",
      "가격: 21,150원\n",
      "상품명: 펩시콜라 제로 라임향 ECO무라벨 300ml 20펫+리유저블컵/탄산음료/펩시제로 사이다/음료수\n",
      "가격: 18,500원\n",
      "상품명: 이쌀이다 21년산 아산 맑은쌀 삼광 10kg\n",
      "가격: 26,500원\n",
      "상품명: 소문난오부자 재래도시락김5g 72봉 / 8월생산 추석선물세트/쿠폰가15840\n",
      "가격: 19,800원\n",
      "상품명: 프레시지 부채살 페퍼 스테이크 190g x 4팩 (쿠폰가 17430원)\n",
      "가격: 24,900원\n",
      "상품명: 닥터린 초임계 알티지(rTG) 오메가3 5박스 (5개월분) +질유산균3박스+쇼핑백+경품추첨\n",
      "가격: 59,900원\n",
      "상품명: 햇반솥반 전복내장영양밥X6개+소고기우엉밥X6개+흑미밤찰밥X6개\n",
      "가격: 43,900원\n",
      "상품명: 리챔 오리지널 200g 10캔\n",
      "가격: 21,900원\n",
      "상품명: (역대급 134P 11820) 베스트셀러 러브 생리대/사은품증정\n",
      "가격: 18,900원\n",
      "상품명: (요기요) 1만원권\n",
      "가격: 10,000원\n",
      "상품명: 국내산 쫀득 구운계란 30알 x 2판\n",
      "가격: 15,900원\n",
      "상품명: 참드림미 쌀 10kg 2개 단일품종 특등급 쿠폰가 32400원\n",
      "가격: 53,000원\n",
      "상품명: 우듬지팜 산지직송 스테비아 방울토망고 500g x 2팩\n",
      "가격: 9,900원\n",
      "상품명: 과탄산소다 특대용량 7kg / 산소계 표백제\n",
      "가격: 14,800원\n",
      "상품명: 혼합곡 17곡 10kg(5kg+5kg) 2021년산 쿠폰가15920원\n",
      "가격: 19,900원\n",
      "상품명: 김치사발면12개+육개장사발면12개(총24개)\n",
      "가격: 20,900원\n",
      "상품명: 홈쇼핑 가을신상/여름시즌OFF 특가 모음전/무료배송\n",
      "가격: 7,900원\n",
      "상품명: 아기물티슈 최종 19920) 미스터펭 시그니처77 캡형 70매 20팩 (77g)\n",
      "가격: 24,900원\n",
      "상품명: (버거킹) 와퍼+불고기와퍼주니어+콜라R2\n",
      "가격: 7,900원\n"
     ]
    }
   ],
   "source": [
    "driver=wb.Chrome()\n",
    "driver.get(\"http://corners.gmarket.co.kr/Bestsellers\")\n",
    "\n",
    "title_list = []\n",
    "price_list = []\n",
    "\n",
    "for i in range(20):\n",
    "    imgs = driver.find_elements(By.CLASS_NAME, 'lazy')\n",
    "    #i번쨰 클릭\n",
    "    imgs[i].click()\n",
    "    #1초 쉬기\n",
    "    time.sleep(1)\n",
    "    #1. 상품명, 가격 가져오기\n",
    "    title = driver.find_element(By.CLASS_NAME,'itemtit').text\n",
    "    price = driver.find_element(By.CLASS_NAME,'price_real').text\n",
    "    #2. 리스트에 추가하기\n",
    "#     print(title.text)\n",
    "    title_list.append(title)\n",
    "    price_list.append(price)\n",
    "    \n",
    "    #3. 상품명, 가격출력하기\n",
    "    print(\"상품명:\",title)\n",
    "    print(\"가격:\",price)\n",
    "    #4. 뒤로가기\n",
    "    driver.back()\n",
    "    #5. 1초쉬기\n",
    "    time.sleep(1)\n",
    "    "
   ]
  },
  {
   "cell_type": "code",
   "execution_count": 203,
   "id": "8acbd267",
   "metadata": {},
   "outputs": [
    {
     "data": {
      "text/html": [
       "<div>\n",
       "<style scoped>\n",
       "    .dataframe tbody tr th:only-of-type {\n",
       "        vertical-align: middle;\n",
       "    }\n",
       "\n",
       "    .dataframe tbody tr th {\n",
       "        vertical-align: top;\n",
       "    }\n",
       "\n",
       "    .dataframe thead th {\n",
       "        text-align: right;\n",
       "    }\n",
       "</style>\n",
       "<table border=\"1\" class=\"dataframe\">\n",
       "  <thead>\n",
       "    <tr style=\"text-align: right;\">\n",
       "      <th></th>\n",
       "      <th>상품명</th>\n",
       "      <th>가격</th>\n",
       "    </tr>\n",
       "  </thead>\n",
       "  <tbody>\n",
       "    <tr>\n",
       "      <th>0</th>\n",
       "      <td>최상급 통통 활 왕새우 1kg 34-38미 / 14940원 (빅세일20%+수산대전2...</td>\n",
       "      <td>24,900원</td>\n",
       "    </tr>\n",
       "    <tr>\n",
       "      <th>1</th>\n",
       "      <td>비비고 사골곰탕 500g 18개</td>\n",
       "      <td>21,150원</td>\n",
       "    </tr>\n",
       "    <tr>\n",
       "      <th>2</th>\n",
       "      <td>펩시콜라 제로 라임향 ECO무라벨 300ml 20펫+리유저블컵/탄산음료/펩시제로 사...</td>\n",
       "      <td>18,500원</td>\n",
       "    </tr>\n",
       "    <tr>\n",
       "      <th>3</th>\n",
       "      <td>이쌀이다 21년산 아산 맑은쌀 삼광 10kg</td>\n",
       "      <td>26,500원</td>\n",
       "    </tr>\n",
       "    <tr>\n",
       "      <th>4</th>\n",
       "      <td>소문난오부자 재래도시락김5g 72봉 / 8월생산 추석선물세트/쿠폰가15840</td>\n",
       "      <td>19,800원</td>\n",
       "    </tr>\n",
       "  </tbody>\n",
       "</table>\n",
       "</div>"
      ],
      "text/plain": [
       "                                                 상품명       가격\n",
       "0  최상급 통통 활 왕새우 1kg 34-38미 / 14940원 (빅세일20%+수산대전2...  24,900원\n",
       "1                                  비비고 사골곰탕 500g 18개  21,150원\n",
       "2  펩시콜라 제로 라임향 ECO무라벨 300ml 20펫+리유저블컵/탄산음료/펩시제로 사...  18,500원\n",
       "3                           이쌀이다 21년산 아산 맑은쌀 삼광 10kg  26,500원\n",
       "4         소문난오부자 재래도시락김5g 72봉 / 8월생산 추석선물세트/쿠폰가15840  19,800원"
      ]
     },
     "execution_count": 203,
     "metadata": {},
     "output_type": "execute_result"
    }
   ],
   "source": [
    "df = pd.DataFrame({'상품명':title_list, '가격':price_list})\n",
    "df.head()"
   ]
  },
  {
   "cell_type": "code",
   "execution_count": 204,
   "id": "5edc591f",
   "metadata": {},
   "outputs": [],
   "source": [
    "df.to_csv('gmarkey_best.csv',encoding = 'utf-8')"
   ]
  }
 ],
 "metadata": {
  "kernelspec": {
   "display_name": "Python 3 (ipykernel)",
   "language": "python",
   "name": "python3"
  },
  "language_info": {
   "codemirror_mode": {
    "name": "ipython",
    "version": 3
   },
   "file_extension": ".py",
   "mimetype": "text/x-python",
   "name": "python",
   "nbconvert_exporter": "python",
   "pygments_lexer": "ipython3",
   "version": "3.9.12"
  }
 },
 "nbformat": 4,
 "nbformat_minor": 5
}
